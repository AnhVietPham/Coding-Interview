{
  "nbformat": 4,
  "nbformat_minor": 0,
  "metadata": {
    "kernelspec": {
      "display_name": "Python 3",
      "language": "python",
      "name": "python3"
    },
    "language_info": {
      "codemirror_mode": {
        "name": "ipython",
        "version": 3
      },
      "file_extension": ".py",
      "mimetype": "text/x-python",
      "name": "python",
      "nbconvert_exporter": "python",
      "pygments_lexer": "ipython3",
      "version": "3.7.4"
    },
    "colab": {
      "name": "introduction-lab.ipynb",
      "provenance": [],
      "include_colab_link": true
    }
  },
  "cells": [
    {
      "cell_type": "markdown",
      "metadata": {
        "id": "view-in-github",
        "colab_type": "text"
      },
      "source": [
        "<a href=\"https://colab.research.google.com/github/AnhVietPham/Computer-Science/blob/master/introduction_lab.ipynb\" target=\"_parent\"><img src=\"https://colab.research.google.com/assets/colab-badge.svg\" alt=\"Open In Colab\"/></a>"
      ]
    },
    {
      "cell_type": "markdown",
      "metadata": {
        "id": "gYJwlxz2vVY1"
      },
      "source": [
        "# Goals of the Laboratory\n",
        "In this introductory laboratory, we expect students to:\n",
        "\n",
        "1. Acquire basic knowledge about Python and Matplotlib\n",
        "2. Gain familiarity with Juypter Notebooks\n",
        "\n",
        "To achieve such goals, we will go through the following steps:\n",
        "\n",
        "1. In section 1, **IPython** and **Jupyter Notebooks** are introduced to help students understand the environment used to work on projects, including those that are part of the course.\n",
        "\n",
        "2. In section 2, we briefly overview **Python** and its syntax. In addition, we cover **Matplotlib**, a very powerful library to plot figures in Python. Finally, we introduce **Pandas**, a python library that is very helpful when manipulating data."
      ]
    },
    {
      "cell_type": "markdown",
      "metadata": {
        "id": "VuYWbpibvVY6"
      },
      "source": [
        "# 1. Python, IPython and Jupyter Notebooks\n",
        "\n",
        "**Python** is a high-level, dynamic, object-oriented programming language. It is a general purpose language, which is designed to be easy to use and easy to read.\n",
        "\n",
        "**IPython** (Interactive Python) is originally developed for Python. Now, it is a command shell for interactive computing supporting multiple programming languages. It offers rich media, shell syntax, tab completion, and history. IPython is based on an architecture that provides parallel and distributed computing. IPython enables parallel applications to be developed, executed, debugged and monitored interactively.\n",
        "\n",
        "**Jupyter Notebooks** are a web-based interactive computational environment for creating IPython notebooks. An IPython notebook is a JSON document containing an ordered list of input/output cells which can contain code, text, mathematics, plots and rich media. Notebooks make data analysis easier to perform, understand and reproduce. All laboratories in this course are prepared as Notebooks. As you can see, in this Notebook, we can put text, images, hyperlinks, source code... The Notebooks can be converted to a number of open standard output formats (HTML, HTML presentation slides, LaTeX, PDF, ReStructuredText, Markdown, Python) through `File` -> `Download As` in the web interface. In addition, Jupyter manages the notebooks' versions through a `checkpoint` mechanism. You can create checkpoint anytime via `File -> Save and Checkpoint`. \n",
        "\n",
        "**NOTE on Checkpointing:** in this course, we use a peculiar environment to work. We don't have a Notebook server: instead, we create on demand clusters with a Notebook front-end. Since your clusters are **ephemeral** (they are terminated after a predefined amount of time), checkpointing is of little use, for anything else than saving your notebook in your ephemeral environment. It is far better to download regularly your notebooks, and to push them to your git repository."
      ]
    },
    {
      "cell_type": "markdown",
      "metadata": {
        "id": "vA_erX4YvVY6"
      },
      "source": [
        "## 1.1. Tab completion\n",
        "\n",
        "Tab completion is a convenient way to explore the structure of any object you're dealing with. Simply type object_name.<TAB> to view the suggestion for object's attributes. Besides Python objects and keywords, tab completion also works on file and directory names."
      ]
    },
    {
      "cell_type": "code",
      "metadata": {
        "id": "pwsqw90RvVY7"
      },
      "source": [
        "s = \"test function of tab completion\"\n",
        "\n",
        "# type s.<TAB> to see the suggestions\n",
        "\n",
        "# Show your experiments working on a string. \n",
        "# Try splitting a string into its constituent words, and count the number of words."
      ],
      "execution_count": null,
      "outputs": []
    },
    {
      "cell_type": "markdown",
      "metadata": {
        "id": "M8Rdk_02vVY7"
      },
      "source": [
        "## 1.2. System shell commands\n",
        "\n",
        "To run any command in the system shell, simply prefix it with `!`. For example:"
      ]
    },
    {
      "cell_type": "code",
      "metadata": {
        "id": "gtCQs8B8vVY7"
      },
      "source": [
        "# list all file and directories in the current folder\n",
        "!ls"
      ],
      "execution_count": null,
      "outputs": []
    },
    {
      "cell_type": "markdown",
      "metadata": {
        "id": "2QNl4RKTvVY7"
      },
      "source": [
        "## 1.3. Magic functions\n",
        "\n",
        "IPython has a set of predefined `magic functions` that you can call with a command line style syntax. There are two types of magics, line-oriented and cell-oriented. \n",
        "\n",
        "**Line magics** are prefixed with the `%` character and work much like OS command-line calls: they get as an argument the rest of the line, *where arguments are passed without parentheses or quotes*. \n",
        "\n",
        "**Cell magics** are prefixed with a double `%%`, and they are functions that get as an argument not only the rest of the line, but also the lines below it in a separate argument."
      ]
    },
    {
      "cell_type": "code",
      "metadata": {
        "id": "-0ccJYl6vVY8"
      },
      "source": [
        "%timeit range(1000)"
      ],
      "execution_count": null,
      "outputs": []
    },
    {
      "cell_type": "code",
      "metadata": {
        "id": "twBOrCX6vVY8"
      },
      "source": [
        "%%timeit x = range(10000)\n",
        "max(x)"
      ],
      "execution_count": null,
      "outputs": []
    },
    {
      "cell_type": "markdown",
      "metadata": {
        "id": "SSRrOz_EvVY8"
      },
      "source": [
        "For more information, you can follow this [link](http://nbviewer.jupyter.org/github/ipython/ipython/blob/1.x/examples/notebooks/Cell%20Magics.ipynb)"
      ]
    },
    {
      "cell_type": "markdown",
      "metadata": {
        "id": "uAZ-4SBvvVY8"
      },
      "source": [
        "## 1.4. Debugging\n",
        "\n",
        "Whenever an exception occurs, the call stack is printed out to help you to track down the true source of the problem. It is important to gain familiarity with the call stack."
      ]
    },
    {
      "cell_type": "code",
      "metadata": {
        "id": "KQmWEgCRvVY9",
        "outputId": "98fa571f-b0a5-4e9d-e0ef-3695b573532b"
      },
      "source": [
        "for i in [4,3,2,0]:\n",
        "    print(5/i)"
      ],
      "execution_count": null,
      "outputs": [
        {
          "output_type": "stream",
          "text": [
            "1.25\n",
            "1.6666666666666667\n",
            "2.5\n"
          ],
          "name": "stdout"
        },
        {
          "output_type": "error",
          "ename": "ZeroDivisionError",
          "evalue": "division by zero",
          "traceback": [
            "\u001b[0;31m---------------------------------------------------------------------------\u001b[0m",
            "\u001b[0;31mZeroDivisionError\u001b[0m                         Traceback (most recent call last)",
            "\u001b[0;32m<ipython-input-1-f2805a3017ee>\u001b[0m in \u001b[0;36m<module>\u001b[0;34m\u001b[0m\n\u001b[1;32m      1\u001b[0m \u001b[0;32mfor\u001b[0m \u001b[0mi\u001b[0m \u001b[0;32min\u001b[0m \u001b[0;34m[\u001b[0m\u001b[0;36m4\u001b[0m\u001b[0;34m,\u001b[0m\u001b[0;36m3\u001b[0m\u001b[0;34m,\u001b[0m\u001b[0;36m2\u001b[0m\u001b[0;34m,\u001b[0m\u001b[0;36m0\u001b[0m\u001b[0;34m]\u001b[0m\u001b[0;34m:\u001b[0m\u001b[0;34m\u001b[0m\u001b[0;34m\u001b[0m\u001b[0m\n\u001b[0;32m----> 2\u001b[0;31m     \u001b[0mprint\u001b[0m\u001b[0;34m(\u001b[0m\u001b[0;36m5\u001b[0m\u001b[0;34m/\u001b[0m\u001b[0mi\u001b[0m\u001b[0;34m)\u001b[0m\u001b[0;34m\u001b[0m\u001b[0;34m\u001b[0m\u001b[0m\n\u001b[0m",
            "\u001b[0;31mZeroDivisionError\u001b[0m: division by zero"
          ]
        }
      ]
    },
    {
      "cell_type": "markdown",
      "metadata": {
        "id": "2oZwLM9hvVY9"
      },
      "source": [
        "## 1.5. Additional features\n",
        "\n",
        "Jupyter also supports viewing the status of the cluster and interact with the real shell environment.\n",
        "\n",
        "To do that, you can click on the Logo Jupyter in the up-left corner of each notebook to go to the dashboard:\n",
        "\n",
        "<img src=\"https://farm2.staticflickr.com/1488/24681339931_733acb3494_b.jpg\" width=\"600px\" />\n",
        "\n",
        "You can easily find out how to use these features, so you're invited to play around!!"
      ]
    },
    {
      "cell_type": "markdown",
      "metadata": {
        "id": "eR7X2h7hvVY-"
      },
      "source": [
        "# 2. Python + Pandas + Matplotlib: A great environment\n",
        "\n",
        "This section aims to help students gain a basic understanding of the python programming language and some of its libraries, including `Pandas` or `Matplotlib`. \n",
        "\n",
        "When working with a small dataset (one that can comfortably fit into a single machine), Pandas and Matplotlib, together with Python are valid alternatives to other popular tools such as R and Matlab. Using such libraries allows to inherit from the simple and clear Python syntax, achieve very good performance, enjoy superior memory management,  error handling, and good package management \\[[1](http://ajminich.com/2013/06/22/9-reasons-to-switch-from-matlab-to-python/)\\].\n",
        "\n",
        "\n",
        "## 2.1. Python syntax\n",
        "\n",
        "(This section is for students who did not program in Python before. If you're familiar with Python, please move to the next section: 1.2. Numpy)\n",
        "\n",
        "When working with Python, the code seems to be simpler than (many) other languages. In this laboratory, we compare the Python syntax to that of Java - another very common language.\n",
        "\n",
        "```java\n",
        "// java syntax\n",
        "int i = 10;\n",
        "string s = \"advanced machine learning\";\n",
        "System.out.println(i);\n",
        "System.out.println(s);\n",
        "// you must not forget the semicolon at the end of each sentence\n",
        "```"
      ]
    },
    {
      "cell_type": "code",
      "metadata": {
        "id": "rWOR_Ecy1i7w"
      },
      "source": [
        ""
      ],
      "execution_count": null,
      "outputs": []
    },
    {
      "cell_type": "code",
      "metadata": {
        "id": "rgcDys5lvVY-"
      },
      "source": [
        "# python syntax\n",
        "i = 10\n",
        "s = \"advanced machine learning\"\n",
        "print(i)\n",
        "print(s)\n",
        "# forget about the obligation of commas"
      ],
      "execution_count": null,
      "outputs": []
    },
    {
      "cell_type": "markdown",
      "metadata": {
        "id": "AhE0WZNlvVY-"
      },
      "source": [
        "### Indentation & If-else syntax\n",
        "In python, we don't use `{` and `}` to define blocks of codes: instead, we use indentation to do that. **The code within the same block must have the same indentation**. For example, in java, we write:\n",
        "```java\n",
        "string language = \"Python\";\n",
        "\n",
        "// the block is surrounded by { and }\n",
        "// the condition is in ( and )\n",
        "if (language == \"Python\") {\n",
        "    int x = 1;\n",
        "    x += 10;\n",
        "       int y = 5; // a wrong indentation isn't problem\n",
        "    y = x + y;\n",
        "    System.out.println(x + y);\n",
        "    \n",
        "    // a statement is broken into two line\n",
        "    x = y\n",
        "        + y;\n",
        "    \n",
        "    // do some stuffs\n",
        "}\n",
        "else if (language == \"Java\") {\n",
        "    // another block\n",
        "}\n",
        "else {\n",
        "    // another block\n",
        "}\n",
        "```"
      ]
    },
    {
      "cell_type": "code",
      "metadata": {
        "id": "xUbqhPYEvVY-",
        "outputId": "494ad2d8-2d66-485a-ed7f-61081dc114dc"
      },
      "source": [
        "language = \"Python\"\n",
        "if language == \"Python\":\n",
        "    x = 10\n",
        "    x += 10\n",
        "    y = 5 # all statements in the same block must have the same indentation\n",
        "    y = (\n",
        "        x + y\n",
        "    ) # statements can be on multiple lines, using ( )\n",
        "    print (x \n",
        "           + y)\n",
        "    \n",
        "    # statements can also be split on multiple lines by using \\ at the END of each line\n",
        "    x = y \\\n",
        "        + y\n",
        "    \n",
        "    # do some other stuffs\n",
        "elif language == \"Java\":\n",
        "    # another block\n",
        "    pass\n",
        "else:\n",
        "    # another block\n",
        "    pass"
      ],
      "execution_count": null,
      "outputs": [
        {
          "output_type": "stream",
          "text": [
            "45\n"
          ],
          "name": "stdout"
        }
      ]
    },
    {
      "cell_type": "markdown",
      "metadata": {
        "id": "0onloe1SvVY_"
      },
      "source": [
        "### Ternary conditional operator\n",
        "In python, we often see ternary conditional operator, which is used to assign a value to a variable based on some condition. For example, in java, we write:\n",
        "\n",
        "```java\n",
        "int x = 10;\n",
        "// if x > 10, assign y = 5, otherwise, y = 15\n",
        "int y = (x > 10) ? 5 : 15;\n",
        "\n",
        "int z;\n",
        "if (x > 10)\n",
        "    z = 5; // it's not necessary to have { } when the block has only one statement\n",
        "else\n",
        "    z = 15;\n",
        "```\n",
        "\n",
        "Of course, although we can easily write these lines of code in an `if else` block to get the same result, people prefer ternary conditional operator because of simplicity.\n",
        "\n",
        "In python, we write:"
      ]
    },
    {
      "cell_type": "code",
      "metadata": {
        "id": "8BfGsGg1vVY_",
        "outputId": "c65e0319-298f-4546-88e7-b99e9f4d5a59"
      },
      "source": [
        "x = 10\n",
        "# a very natural way\n",
        "y = 5 if x > 10 else 15\n",
        "print(y)\n",
        "\n",
        "# another way\n",
        "y = x > 10 and 5 or 15\n",
        "print(y)"
      ],
      "execution_count": null,
      "outputs": [
        {
          "output_type": "stream",
          "text": [
            "15\n",
            "15\n"
          ],
          "name": "stdout"
        }
      ]
    },
    {
      "cell_type": "markdown",
      "metadata": {
        "id": "5FWn8qFEvVY_"
      },
      "source": [
        "### Lists and For loops\n",
        "Another syntax that we should revisit is the `for loop`. In java, we can write:\n",
        "\n",
        "```java\n",
        "// init an array with 10 integer numbers\n",
        "int[] array = new int[]{1, 2, 3, 4, 5, 6, 7, 8, 9, 10};\n",
        "for (int i = 0; i < array.length; i++){\n",
        "    // print the i-th element of array\n",
        "    System.out.println(array[i]);\n",
        "}\n",
        "```\n",
        "\n",
        "In Python, instead of using an index to help indicating an element, we can access the element directly:"
      ]
    },
    {
      "cell_type": "code",
      "metadata": {
        "id": "u0Wv4ijFvVY_"
      },
      "source": [
        "array = [1, 2, 3, 4, 5, 6, 7, 8, 9, 10]\n",
        "# Python has no built-in array data structure\n",
        "# instead, it uses \"list\" which is much more general \n",
        "# and can be used as a multidimensional array quite easily.\n",
        "for element in array:\n",
        "    print(element)"
      ],
      "execution_count": null,
      "outputs": []
    },
    {
      "cell_type": "markdown",
      "metadata": {
        "id": "d814JGCTvVZA"
      },
      "source": [
        "As we can see, the code is very clean. If you need the index of each element, here's what you should do:"
      ]
    },
    {
      "cell_type": "code",
      "metadata": {
        "id": "4OT2Xj9rvVZA"
      },
      "source": [
        "for (index, element) in enumerate(array):\n",
        "    print(index, element)"
      ],
      "execution_count": null,
      "outputs": []
    },
    {
      "cell_type": "markdown",
      "metadata": {
        "id": "RE-P1CoSvVZA"
      },
      "source": [
        "Actually, Python has no built-in array data structure. It uses the `list` data structure, which is much more general and can be used as a multidimensional array quite easily. In addition, elements in a list can be retrieved in a very concise way. For example, we create a 2d-array with 4 rows. Each row has 3 elements."
      ]
    },
    {
      "cell_type": "code",
      "metadata": {
        "id": "KdMkbfYnvVZA"
      },
      "source": [
        "# 2-dimentions array with 4 rows, 3 columns\n",
        "twod_array = [[1, 2, 3], [4, 5, 6], [7, 8, 9], [10, 11, 12]]\n",
        "for index, row in enumerate(twod_array):\n",
        "    print(\"row \", index, \":\", row)\n",
        "\n",
        "# print row 1 until row 3\n",
        "print(\"row 1 until row 3: \", twod_array[1:3])\n",
        "\n",
        "# all rows from row 2\n",
        "print(\"all rows from row 2: \", twod_array[2:])\n",
        "\n",
        "# all rows until row 2\n",
        "print(\"all rows until row 2:\", twod_array[:2])\n",
        "\n",
        "# all rows from the beginning with step of 2. \n",
        "print(\"all rows from the beginning with step of 2:\", twod_array[::2])"
      ],
      "execution_count": null,
      "outputs": []
    },
    {
      "cell_type": "markdown",
      "metadata": {
        "id": "oUs0t3FivVZB"
      },
      "source": [
        "### Dictionaries\n",
        "Another useful data structure in Python is a `dictionary`, which we use to store (key, value) pairs. Here's some example usage of dictionaries:"
      ]
    },
    {
      "cell_type": "code",
      "metadata": {
        "id": "BUt9IQrbvVZB"
      },
      "source": [
        "d = {'key1': 'value1', 'key2': 'value2'}  # Create a new dictionary with some data\n",
        "print(d['key1'])       # Get an entry from a dictionary; prints \"value1\"\n",
        "print('key1' in d)     # Check if a dictionary has a given key; prints \"True\"\n",
        "d['key3'] = 'value3'    # Set an entry in a dictionary\n",
        "print(d['key3'])      # Prints \"value3\"\n",
        "# print(d['key9'])  # KeyError: 'key9' not a key of d\n",
        "print(d.get('key9', 'custom_default_value'))  # Get an element with a default; prints \"custom_default_value\"\n",
        "print(d.get('key3', 'custom_default_value'))    # Get an element with a default; prints \"value3\"\n",
        "del d['key3']        # Remove an element from a dictionary\n",
        "print(d.get('key3', 'custom_default_value')) # \"fish\" is no longer a key; prints \"custom_default_value\""
      ],
      "execution_count": null,
      "outputs": []
    },
    {
      "cell_type": "markdown",
      "metadata": {
        "id": "oG0Kma6hvVZB"
      },
      "source": [
        "### Functions\n",
        "In Python, we can define a function by using keyword `def`."
      ]
    },
    {
      "cell_type": "code",
      "metadata": {
        "id": "F0LTASKwvVZB"
      },
      "source": [
        "def square(x):\n",
        "    return x*x\n",
        "\n",
        "print(square(5))"
      ],
      "execution_count": null,
      "outputs": []
    },
    {
      "cell_type": "markdown",
      "metadata": {
        "id": "s4dbjZwLvVZB"
      },
      "source": [
        "You can apply a function to each element of a list/array by using `lambda` function. For example, we want to square elements in a list:"
      ]
    },
    {
      "cell_type": "code",
      "metadata": {
        "id": "OtCO6C15vVZB"
      },
      "source": [
        "array = [1, 2, 3, 4, 5, 6, 7, 8, 9, 10]\n",
        "\n",
        "# apply function \"square\" on each element of \"array\"\n",
        "print(list(map(lambda x: square(x), array)))\n",
        "\n",
        "# or using a for loop, and a list comprehension\n",
        "print([square(x) for x in array])\n",
        "\n",
        "print(\"orignal array:\", array)"
      ],
      "execution_count": null,
      "outputs": []
    },
    {
      "cell_type": "markdown",
      "metadata": {
        "id": "IxiCnuXYvVZB"
      },
      "source": [
        "These two above syntaxes are used very often. \n",
        "\n",
        "If you are not familiar with **list comprehensions**, follow this [link](http://python-3-patterns-idioms-test.readthedocs.io/en/latest/Comprehensions.html]).\n",
        "\n",
        "We can also put a function `B` inside a function `A` (that is, we can have nested functions). In that case, function `B` is only accessed inside function `A` (the scope that it's declared). For example:"
      ]
    },
    {
      "cell_type": "code",
      "metadata": {
        "id": "SB2yA91evVZB"
      },
      "source": [
        "# select only the prime number in array\n",
        "# and square them\n",
        "def filterAndSquarePrime(arr):\n",
        "    \n",
        "    # a very simple function to check a number is prime or not\n",
        "    def checkPrime(number):\n",
        "        for i in range(2, int(number/2)):\n",
        "            if number % i == 0:\n",
        "                return False\n",
        "        return True\n",
        "    \n",
        "    primeNumbers = filter(lambda x: checkPrime(x), arr)\n",
        "    return map(lambda x: square(x), primeNumbers)\n",
        "\n",
        "# we can not access checkPrime from here\n",
        "# checkPrime(5)\n",
        "\n",
        "result = filterAndSquarePrime(array)\n",
        "list(result)"
      ],
      "execution_count": null,
      "outputs": []
    },
    {
      "cell_type": "markdown",
      "metadata": {
        "id": "AY-ZY2JkvVZC"
      },
      "source": [
        "### Importing modules, functions\n",
        "Modules in Python are packages of code. Putting code into modules helps increasing the reusability and maintainability.\n",
        "The modules can be nested.\n",
        "To import a module, we simple use syntax: `import <module_name>`. Once it is imported, we can use any functions, classes inside it."
      ]
    },
    {
      "cell_type": "code",
      "metadata": {
        "id": "le1EHtvbvVZC"
      },
      "source": [
        "# import module 'math' to uses functions for calculating\n",
        "import math\n",
        "\n",
        "# print the square root of 16\n",
        "print(math.sqrt(16))\n",
        "\n",
        "# we can create alias when import a module\n",
        "import numpy as np\n",
        "\n",
        "print(np.sqrt(16))"
      ],
      "execution_count": null,
      "outputs": []
    },
    {
      "cell_type": "markdown",
      "metadata": {
        "id": "FE5rUksyvVZC"
      },
      "source": [
        "Sometimes, you only need to import some functions inside a module to avoid loading the whole module into memory. To do that, we can use syntax: `from <module> import <function>`"
      ]
    },
    {
      "cell_type": "code",
      "metadata": {
        "id": "jjlPboMOvVZC"
      },
      "source": [
        "# only import function 'sin' in package 'math'\n",
        "from math import sin\n",
        "\n",
        "# use the function\n",
        "print(sin(60))"
      ],
      "execution_count": null,
      "outputs": []
    },
    {
      "cell_type": "markdown",
      "metadata": {
        "id": "coxlhKqHvVZC"
      },
      "source": [
        "That's quite enough for Python. Now, let's practice a little bit."
      ]
    },
    {
      "cell_type": "markdown",
      "metadata": {
        "id": "FlP19ej7vVZC"
      },
      "source": [
        "### Question 1\n",
        "#### Question 1.1\n",
        "<div class=\"alert alert-info\">\n",
        "Write a function `checkSquareNumber` to check if a integer number is a square number or not. For example, 16 and 9 are square numbers. 15 isn't square number.\n",
        "Requirements:\n",
        "\n",
        "- Input: an integer number\n",
        "\n",
        "- Output: `True` or `False`\n",
        "\n",
        "HINT: If the square root of a number is an integer number, it is a square number.\n",
        "</div>"
      ]
    },
    {
      "cell_type": "markdown",
      "metadata": {
        "id": "fUoxZT96vVZC"
      },
      "source": [
        "\n",
        "from math import sqrt\n",
        "\n",
        "def checkSquareNumber(x):\n",
        "    return sqrt(n).is_integer()\n",
        "\n",
        "print(checkSquareNumber(16))\n",
        "print(checkSquareNumber(250))"
      ]
    },
    {
      "cell_type": "code",
      "metadata": {
        "colab": {
          "base_uri": "https://localhost:8080/"
        },
        "id": "cakVL2TO1nYH",
        "outputId": "0cc6271c-618d-4c1b-df64-79c047891c7d"
      },
      "source": [
        "from math import sqrt\n",
        "\n",
        "def checkSquareNumber(x):\n",
        "    return sqrt(x).is_integer()\n",
        "\n",
        "print(checkSquareNumber(4))\n",
        "print(checkSquareNumber(15))"
      ],
      "execution_count": 7,
      "outputs": [
        {
          "output_type": "stream",
          "text": [
            "True\n",
            "False\n"
          ],
          "name": "stdout"
        }
      ]
    },
    {
      "cell_type": "markdown",
      "metadata": {
        "id": "BxVbZAFFvVZC"
      },
      "source": [
        "#### Question 1.2\n",
        "<div class=\"alert alert-info\">\n",
        "A list `list_numbers` which contains the numbers from 1 to 9999 can be constructed from: \n",
        "\n",
        "```python\n",
        "list_numbers = range(0, 10000)\n",
        "```\n",
        "\n",
        "Extract the square numbers in `list_numbers` using function `checkSquareNumber` from question 1.1. How many elements in the extracted list ?\n",
        "</div>"
      ]
    },
    {
      "cell_type": "markdown",
      "metadata": {
        "id": "YnMmapZ5vVZC"
      },
      "source": [
        "```python\n",
        "list_numbers = ...\n",
        "square_numbers = # try to use the filter method\n",
        "print(square_numbers)\n",
        "print(len(square_numbers))\n",
        "```"
      ]
    },
    {
      "cell_type": "code",
      "metadata": {
        "colab": {
          "base_uri": "https://localhost:8080/"
        },
        "id": "spH5Fxu83ntR",
        "outputId": "6e7ab629-5843-48e4-d574-afc7c08664eb"
      },
      "source": [
        "list_numbers = range(0,10000)\n",
        "square_numbers = [number for number in list_numbers if checkSquareNumber(number)]\n",
        "print(square_numbers)\n",
        "print(len(square_numbers))"
      ],
      "execution_count": 8,
      "outputs": [
        {
          "output_type": "stream",
          "text": [
            "[0, 1, 4, 9, 16, 25, 36, 49, 64, 81, 100, 121, 144, 169, 196, 225, 256, 289, 324, 361, 400, 441, 484, 529, 576, 625, 676, 729, 784, 841, 900, 961, 1024, 1089, 1156, 1225, 1296, 1369, 1444, 1521, 1600, 1681, 1764, 1849, 1936, 2025, 2116, 2209, 2304, 2401, 2500, 2601, 2704, 2809, 2916, 3025, 3136, 3249, 3364, 3481, 3600, 3721, 3844, 3969, 4096, 4225, 4356, 4489, 4624, 4761, 4900, 5041, 5184, 5329, 5476, 5625, 5776, 5929, 6084, 6241, 6400, 6561, 6724, 6889, 7056, 7225, 7396, 7569, 7744, 7921, 8100, 8281, 8464, 8649, 8836, 9025, 9216, 9409, 9604, 9801]\n",
            "100\n"
          ],
          "name": "stdout"
        }
      ]
    },
    {
      "cell_type": "markdown",
      "metadata": {
        "id": "ZwY9dy5VvVZD"
      },
      "source": [
        "#### Question 1.3\n",
        "<div class=\"alert alert-info\">\n",
        "Using array slicing, select the elements of the list square_numbers, whose index is from 5 to 20 (zero-based index).\n",
        "</div>"
      ]
    },
    {
      "cell_type": "markdown",
      "metadata": {
        "id": "7qif5R7qvVZD"
      },
      "source": [
        "```python\n",
        "print(square_numbers[...])\n",
        "```"
      ]
    },
    {
      "cell_type": "code",
      "metadata": {
        "colab": {
          "base_uri": "https://localhost:8080/"
        },
        "id": "8BxSgT8M56VT",
        "outputId": "b49c4a78-6976-4cdd-f1cb-0551fe55ba68"
      },
      "source": [
        "print(square_numbers[5:20])"
      ],
      "execution_count": 10,
      "outputs": [
        {
          "output_type": "stream",
          "text": [
            "[25, 36, 49, 64, 81, 100, 121, 144, 169, 196, 225, 256, 289, 324, 361]\n"
          ],
          "name": "stdout"
        }
      ]
    },
    {
      "cell_type": "markdown",
      "metadata": {
        "id": "Bf20Kr2xvVZD"
      },
      "source": [
        "Next, we will take a quick look on Numpy - a powerful module of Python."
      ]
    },
    {
      "cell_type": "markdown",
      "metadata": {
        "id": "SVq3buLKvVZD"
      },
      "source": [
        "## 2.2. Numpy\n",
        "Numpy is the core library for scientific computing in Python. It provides a high-performance multidimensional array object, and tools for working with these arrays.\n",
        "### 2.2.1. Array\n",
        "A numpy array is a grid of values, all of **the same type**, and is indexed by a tuple of nonnegative integers. Thanks to the same type property, Numpy has the benefits of [locality of reference](https://en.wikipedia.org/wiki/Locality_of_reference). Besides, many other Numpy operations are implemented in C, avoiding the general cost of loops in Python, pointer indirection and per-element dynamic type checking. So, the speed of Numpy is often faster than using built-in datastructure of Python. When working with massive data with computationally expensive tasks, you should consider to use Numpy. \n",
        "\n",
        "The number of dimensions is the `rank` of the array; the `shape` of an array is a tuple of integers giving the size of the array along each dimension.\n",
        "\n",
        "We can initialize numpy arrays from nested Python lists, and access elements using square brackets:"
      ]
    },
    {
      "cell_type": "code",
      "metadata": {
        "id": "vJ0_zV18vVZD"
      },
      "source": [
        "import numpy as np\n",
        "\n",
        "# Create a rank 1 array\n",
        "rank1_array = np.array([1, 2, 3])\n",
        "print(\"type of rank1_array:\", type(rank1_array))\n",
        "print(\"shape of rank1_array:\", rank1_array.shape)\n",
        "print(\"elements in rank1_array:\", rank1_array[0], rank1_array[1], rank1_array[2])\n",
        "\n",
        "# Create a rank 2 array\n",
        "rank2_array = np.array([[1,2,3],[4,5,6]])\n",
        "print(\"shape of rank2_array:\", rank2_array.shape)\n",
        "print(rank2_array[0, 0], rank2_array[0, 1], rank2_array[1, 0])"
      ],
      "execution_count": null,
      "outputs": []
    },
    {
      "cell_type": "markdown",
      "metadata": {
        "id": "0b-jBvYXvVZD"
      },
      "source": [
        "### 2.2.2. Array slicing\n",
        "Similar to Python lists, numpy arrays can be sliced. The different thing is that you must specify a slice for each dimension of the array because arrays may be multidimensional."
      ]
    },
    {
      "cell_type": "code",
      "metadata": {
        "id": "Ezg9UWcpvVZD"
      },
      "source": [
        "m_array = np.array([[1,2,3,4], [5,6,7,8], [9,10,11,12]])\n",
        "\n",
        "# Use slicing to pull out the subarray consisting of the first 2 rows\n",
        "# and columns 1 and 2\n",
        "b = m_array[:2, 1:3]\n",
        "print(b)\n",
        "\n",
        "# we can only use this syntax with numpy array, not python list\n",
        "print(\"value at row 0, column 1:\", m_array[0, 1])\n",
        "\n",
        "# Rank 1 view of the second row of m_array  \n",
        "print(\"the second row of m_array:\", m_array[1, :])\n",
        "\n",
        "# print element at position (0,2) and (1,3)\n",
        "print(m_array[[0,1], [2,3]])"
      ],
      "execution_count": null,
      "outputs": []
    },
    {
      "cell_type": "markdown",
      "metadata": {
        "id": "NvKu-GUpvVZE"
      },
      "source": [
        "### 2.2.3. Boolean array indexing\n",
        "We can use boolean array indexing to check whether each element in the array satisfies a condition or use it to do filtering."
      ]
    },
    {
      "cell_type": "code",
      "metadata": {
        "id": "n4TVWOoEvVZE"
      },
      "source": [
        "m_array = np.array([[1,2,3,4], [5,6,7,8], [9,10,11,12]])\n",
        "\n",
        "# Find the elements of a that are bigger than 2\n",
        "# this returns a numpy array of Booleans of the same\n",
        "# shape as m_array, where each value of bool_idx tells\n",
        "# whether that element of a is > 3 or not\n",
        "bool_idx = (m_array > 3)\n",
        "print(bool_idx , \"\\n\")\n",
        "\n",
        "# We use boolean array indexing to construct a rank 1 array\n",
        "# consisting of the elements of a corresponding to the True values\n",
        "# of bool_idx\n",
        "print(m_array[bool_idx], \"\\n\")\n",
        "\n",
        "# We can combine two statements\n",
        "print(m_array[m_array > 3], \"\\n\")\n",
        "\n",
        "# select elements with multiple conditions\n",
        "print(m_array[(m_array > 3) & (m_array % 2 == 0)])\n"
      ],
      "execution_count": null,
      "outputs": []
    },
    {
      "cell_type": "markdown",
      "metadata": {
        "id": "LEDhsJAzvVZE"
      },
      "source": [
        "### 2.2.4. Datatypes\n",
        "Remember that the elements in a numpy array have the same type. When constructing arrays, Numpy tries to guess a datatype when you create an array However, we can specify the datatype explicitly via an optional argument."
      ]
    },
    {
      "cell_type": "code",
      "metadata": {
        "id": "g_844-ubvVZG"
      },
      "source": [
        "# let Numpy guess the datatype\n",
        "x1 = np.array([1, 2])\n",
        "print(x1.dtype)\n",
        "\n",
        "# force the datatype be float64\n",
        "x2 = np.array([1, 2], dtype=np.float64)\n",
        "print(x2.dtype)"
      ],
      "execution_count": null,
      "outputs": []
    },
    {
      "cell_type": "markdown",
      "metadata": {
        "id": "5_p_-8dOvVZG"
      },
      "source": [
        "### 2.2.5. Array math\n",
        "Similar to Matlab or R, in Numpy, basic mathematical functions operate elementwise on arrays, and are available both as operator overloads and as functions in the numpy module."
      ]
    },
    {
      "cell_type": "code",
      "metadata": {
        "id": "-2OlIxWYvVZG"
      },
      "source": [
        "x = np.array([[1,2],[3,4]], dtype=np.float64)\n",
        "y = np.array([[5,6],[7,8]], dtype=np.float64)\n",
        "# mathematical function is used as operator\n",
        "print(\"x + y =\", x + y, \"\\n\")\n",
        "\n",
        "# mathematical function is used as function\n",
        "print(\"np.add(x, y)=\", np.add(x, y), \"\\n\")\n",
        "\n",
        "# Unlike MATLAB, * is elementwise multiplication\n",
        "# not matrix multiplication\n",
        "print(\"x * y =\", x * y , \"\\n\")\n",
        "print(\"np.multiply(x, y)=\", np.multiply(x, y), \"\\n\")\n",
        "print(\"x*2=\", x*2, \"\\n\")\n",
        "\n",
        "# to multiply two matrices, we use dot function\n",
        "print(\"x.dot(y)=\", x.dot(y), \"\\n\")\n",
        "print(\"np.dot(x, y)=\", np.dot(x, y), \"\\n\")\n",
        "\n",
        "# Elementwise square root\n",
        "print(\"np.sqrt(x)=\", np.sqrt(x), \"\\n\")"
      ],
      "execution_count": null,
      "outputs": []
    },
    {
      "cell_type": "markdown",
      "metadata": {
        "id": "dBv9LQA2vVZG"
      },
      "source": [
        "Note that unlike MATLAB, `*` is elementwise multiplication, not matrix multiplication. We instead use the `dot` function to compute inner products of vectors, to multiply a vector by a matrix, and to multiply matrices. In what follows, we work on a few more examples to reiterate the concept."
      ]
    },
    {
      "cell_type": "code",
      "metadata": {
        "id": "Hl78-wRFvVZG"
      },
      "source": [
        "# declare two vectors\n",
        "v = np.array([9,10])\n",
        "w = np.array([11, 12])\n",
        "\n",
        "# Inner product of vectors\n",
        "print(\"v.dot(w)=\", v.dot(w))\n",
        "print(\"np.dot(v, w)=\", np.dot(v, w))\n",
        "\n",
        "# Matrix / vector product\n",
        "print(\"x.dot(v)=\", x.dot(v))\n",
        "print(\"np.dot(x, v)=\", np.dot(x, v))\n",
        "\n",
        "# Matrix / matrix product\n",
        "print(\"x.dot(y)=\", x.dot(y))\n",
        "print(\"np.dot(x, y)=\", np.dot(x, y))"
      ],
      "execution_count": null,
      "outputs": []
    },
    {
      "cell_type": "markdown",
      "metadata": {
        "id": "hyhlw27XvVZG"
      },
      "source": [
        "Additionally, we can do other aggregation computations on arrays such as `sum`, `nansum`, or `T`."
      ]
    },
    {
      "cell_type": "code",
      "metadata": {
        "id": "A9ZuXlCrvVZG"
      },
      "source": [
        "x = np.array([[1,2], [3,4]])\n",
        "\n",
        "# Compute sum of all elements\n",
        "print(np.sum(x))\n",
        "\n",
        "# Compute sum of each column\n",
        "print(np.sum(x, axis=0))\n",
        "\n",
        "# Compute sum of each row\n",
        "print(np.sum(x, axis=1))\n",
        "\n",
        "# transpose the matrix\n",
        "print(x.T)\n",
        "\n",
        "# Note that taking the transpose of a rank 1 array does nothing:\n",
        "v = np.array([1,2,3])\n",
        "print(v.T)  # Prints \"[1 2 3]\""
      ],
      "execution_count": null,
      "outputs": []
    },
    {
      "cell_type": "markdown",
      "metadata": {
        "id": "CSqFL7nRvVZG"
      },
      "source": [
        "### Question 2\n",
        "\n",
        "Given a 2D array:\n",
        "\n",
        "```\n",
        " 1  2  3  4\n",
        " 5  6  7  8 \n",
        " 9 10 11 12\n",
        "13 14 15 16\n",
        "```\n",
        "\n",
        "\n",
        "#### Question 2.1\n",
        "<div class=\"alert alert-info\">\n",
        "Print the all odd numbers in this array using `Boolean array indexing`.\n",
        "</div>"
      ]
    },
    {
      "cell_type": "markdown",
      "metadata": {
        "id": "OHLtwlglvVZG"
      },
      "source": [
        "```python\n",
        "array_numbers = np.array([\n",
        "        [1, 2, 3, 4],\n",
        "        [5, 6, 7, 8],\n",
        "        [9, 10, 11, 12],\n",
        "        [13, 14, 15, 16]\n",
        "    ])\n",
        "\n",
        "print(...)\n",
        "```"
      ]
    },
    {
      "cell_type": "code",
      "metadata": {
        "colab": {
          "base_uri": "https://localhost:8080/"
        },
        "id": "GMCQX4oz9C2p",
        "outputId": "4928c9cb-616f-40a2-d1a4-e19b6cc2a0eb"
      },
      "source": [
        "import numpy as np\n",
        "\n",
        "array_numbers = np.array([\n",
        "        [1, 2, 3, 4],\n",
        "        [5, 6, 7, 8],\n",
        "        [9, 10, 11, 12],\n",
        "        [13, 14, 15, 16]\n",
        "    ])\n",
        "answers = array_numbers[array_numbers % 2 == 1]\n",
        "print(answers)"
      ],
      "execution_count": 12,
      "outputs": [
        {
          "output_type": "stream",
          "text": [
            "[ 1  3  5  7  9 11 13 15]\n"
          ],
          "name": "stdout"
        }
      ]
    },
    {
      "cell_type": "markdown",
      "metadata": {
        "id": "i09v0MKpvVZH"
      },
      "source": [
        "#### Question 2.2\n",
        "<div class=\"alert alert-info\">\n",
        "Extract the second row and the third column in this array using `array slicing`.\n",
        "</div>"
      ]
    },
    {
      "cell_type": "markdown",
      "metadata": {
        "id": "cdeRhKaMvVZH"
      },
      "source": [
        "```python\n",
        "print(array_numbers[...])\n",
        "print(array_numbers[...])\n",
        "```"
      ]
    },
    {
      "cell_type": "code",
      "metadata": {
        "colab": {
          "base_uri": "https://localhost:8080/"
        },
        "id": "pyDlm2VC9jqa",
        "outputId": "8a8f5830-1f67-43c3-88dc-09aa9a8f0153"
      },
      "source": [
        "print(array_numbers[2,:])\n",
        "print(array_numbers[:,3])"
      ],
      "execution_count": 14,
      "outputs": [
        {
          "output_type": "stream",
          "text": [
            "[ 9 10 11 12]\n",
            "[ 4  8 12 16]\n"
          ],
          "name": "stdout"
        }
      ]
    },
    {
      "cell_type": "markdown",
      "metadata": {
        "id": "htzj9hAfvVZH"
      },
      "source": [
        "#### Question 2.3\n",
        "<div class=\"alert alert-info\">\n",
        "Calculate the sum of diagonal elements.\n",
        "</div>"
      ]
    },
    {
      "cell_type": "markdown",
      "metadata": {
        "id": "vr1iGf8GvVZH"
      },
      "source": [
        "```python\n",
        "sum = 0\n",
        "for i in range(0, ...):\n",
        "    sum += array_numbers...\n",
        "    \n",
        "print(sum)\n",
        "```"
      ]
    },
    {
      "cell_type": "code",
      "metadata": {
        "colab": {
          "base_uri": "https://localhost:8080/"
        },
        "id": "SRDsE1dq-wWS",
        "outputId": "bb061512-6e62-447c-bccb-36de80c01d80"
      },
      "source": [
        "sum = 0\n",
        "for i in range(0, len(array_numbers)):\n",
        "    sum += array_numbers[i,i]\n",
        "    \n",
        "print(sum)\n",
        "print(np.asarray(array_numbers))\n",
        "print(np.diagonal(array_numbers))"
      ],
      "execution_count": 17,
      "outputs": [
        {
          "output_type": "stream",
          "text": [
            "34\n",
            "[[ 1  2  3  4]\n",
            " [ 5  6  7  8]\n",
            " [ 9 10 11 12]\n",
            " [13 14 15 16]]\n",
            "[ 1  6 11 16]\n"
          ],
          "name": "stdout"
        }
      ]
    },
    {
      "cell_type": "markdown",
      "metadata": {
        "id": "Syt1BzvFvVZH"
      },
      "source": [
        "#### Question 2.4\n",
        "<div class=\"alert alert-info\">\n",
        "Print elementwise multiplication of the first row and the last row using numpy's functions.\n",
        "\n",
        "Print the inner product of these two rows.\n",
        "</div>"
      ]
    },
    {
      "cell_type": "markdown",
      "metadata": {
        "id": "vwBLwcmgvVZH"
      },
      "source": [
        "```python\n",
        "print(...)\n",
        "print(...)\n",
        "```"
      ]
    },
    {
      "cell_type": "code",
      "metadata": {
        "colab": {
          "base_uri": "https://localhost:8080/"
        },
        "id": "SARDy5sRAVMR",
        "outputId": "96e1f242-8db7-40d1-ad2d-4492dd1f3083"
      },
      "source": [
        "print(np.multiply(array_numbers[0,:], array_numbers[-1,:]))\n",
        "print(array_numbers[0,:].dot(array_numbers[-1,:]))"
      ],
      "execution_count": 27,
      "outputs": [
        {
          "output_type": "stream",
          "text": [
            "[13 28 45 64]\n",
            "150\n"
          ],
          "name": "stdout"
        }
      ]
    },
    {
      "cell_type": "markdown",
      "metadata": {
        "id": "-xLTwjQgvVZH"
      },
      "source": [
        "## 2.3. Matplotlib\n",
        "\n",
        "As its name indicates, Matplotlib is a plotting library. It provides both a very quick way to visualize data from Python and publication-quality figures in many formats. The most important function in matplotlib is `plot`, which allows you to plot 2D data."
      ]
    },
    {
      "cell_type": "code",
      "metadata": {
        "colab": {
          "base_uri": "https://localhost:8080/",
          "height": 265
        },
        "id": "BFHPOsFXvVZH",
        "outputId": "fe585f1d-d693-4a77-c965-00de37836a3b"
      },
      "source": [
        "%matplotlib inline\n",
        "import matplotlib.pyplot as plt\n",
        "plt.plot([1,2,3,4])\n",
        "plt.ylabel('custom y label')\n",
        "plt.show()"
      ],
      "execution_count": 28,
      "outputs": [
        {
          "output_type": "display_data",
          "data": {
            "image/png": "[encoded data removed]",
            "text/plain": [
              "<Figure size 432x288 with 1 Axes>"
            ]
          },
          "metadata": {
            "tags": [],
            "needs_background": "light"
          }
        }
      ]
    },
    {
      "cell_type": "markdown",
      "metadata": {
        "id": "GoLwHLsovVZI"
      },
      "source": [
        "In this case, we provide a single list or array to the `plot()` command, matplotlib assumes it is a sequence of y values, and automatically generates the x values for us. Since python ranges start with 0, the default x vector has the same length as y but starts with 0. Hence the x data are [0,1,2,3].\n",
        "\n",
        "In the next example, we plot figure with both x and y data. Besides, we want to draw dashed lines instead of the solid in default."
      ]
    },
    {
      "cell_type": "code",
      "metadata": {
        "colab": {
          "base_uri": "https://localhost:8080/",
          "height": 513
        },
        "id": "6SZDaoBkvVZI",
        "outputId": "40cb42ae-1766-4c23-d76d-6bc48c3ae559"
      },
      "source": [
        "plt.plot([1, 2, 3, 4], [1, 4, 9, 16], 'r--')\n",
        "plt.show()\n",
        "\n",
        "plt.bar([1, 2, 3, 4], [1, 4, 9, 16], align='center')\n",
        "# labels of each column bar\n",
        "x_labels = [\"Type 1\", \"Type 2\", \"Type 3\", \"Type 4\"]\n",
        "# assign labels to the plot\n",
        "plt.xticks([1, 2, 3, 4], x_labels)\n",
        "\n",
        "plt.show()"
      ],
      "execution_count": 29,
      "outputs": [
        {
          "output_type": "display_data",
          "data": {
            "image/png": "[encoded data removed]",
            "text/plain": [
              "<Figure size 432x288 with 1 Axes>"
            ]
          },
          "metadata": {
            "tags": [],
            "needs_background": "light"
          }
        },
        {
          "output_type": "display_data",
          "data": {
            "image/png": "[encoded data removed]",
            "text/plain": [
              "<Figure size 432x288 with 1 Axes>"
            ]
          },
          "metadata": {
            "tags": [],
            "needs_background": "light"
          }
        }
      ]
    },
    {
      "cell_type": "markdown",
      "metadata": {
        "id": "Pn4NWEOsvVZI"
      },
      "source": [
        "If we want to merge two figures into a single one, subplot is the best way to do that. For example, we want to put two figures in a stack vertically, we should define a grid of plots with 2 rows and 1 column. Then, in each row, a single figure is plotted."
      ]
    },
    {
      "cell_type": "code",
      "metadata": {
        "id": "NnGFzoEovVZI"
      },
      "source": [
        "# Set up a subplot grid that has height 2 and width 1,\n",
        "# and set the first such subplot as active.\n",
        "plt.subplot(2, 1, 1)\n",
        "plt.plot([1, 2, 3, 4], [1, 4, 9, 16], 'r--')\n",
        "\n",
        "# Set the second subplot as active, and make the second plot.\n",
        "plt.subplot(2, 1, 2)\n",
        "plt.bar([1, 2, 3, 4], [1, 4, 9, 16])\n",
        "\n",
        "plt.show()"
      ],
      "execution_count": null,
      "outputs": []
    },
    {
      "cell_type": "markdown",
      "metadata": {
        "id": "rnKdJKyEvVZI"
      },
      "source": [
        "For more examples, please visit the [homepage](http://matplotlib.org/1.5.1/examples/index.html) of Matplotlib."
      ]
    },
    {
      "cell_type": "markdown",
      "metadata": {
        "id": "ScihXqG_vVZI"
      },
      "source": [
        "###  Question 3\n",
        "Given a list of numbers from 0 to 9999.\n",
        "\n",
        "\n",
        "#### Question 3.1\n",
        "<div class=\"alert alert-info\">\n",
        "Calculate the histogram of numbers divisible by 3, 7, 11 in the list respectively.\n",
        "\n",
        "( Or in other words, how many numbers divisible by 3, 7, 11 in the list respectively ?)\n",
        "</div>"
      ]
    },
    {
      "cell_type": "markdown",
      "metadata": {
        "id": "dz3thS30vVZI"
      },
      "source": [
        "```python\n",
        "arr = np.array(...)\n",
        "divisors = [3, 7, 11]\n",
        "histogram = list(...)\n",
        "print(histogram)\n",
        "```"
      ]
    },
    {
      "cell_type": "markdown",
      "metadata": {
        "id": "7ICSpnYBvVZI"
      },
      "source": [
        "#### Question 3.2\n",
        "<div class=\"alert alert-info\">\n",
        "Plot the histogram in a line chart.\n",
        "</div>"
      ]
    },
    {
      "cell_type": "markdown",
      "metadata": {
        "id": "FFjT9m7_vVZJ"
      },
      "source": [
        "```python\n",
        "%matplotlib inline\n",
        "import matplotlib.pyplot as plt\n",
        "\n",
        "# simple line chart\n",
        "plt.plot(histogram)\n",
        "x_indexes = ...\n",
        "x_names = list(...)\n",
        "plt.xticks(x_indexes, x_names)\n",
        "plt.show()\n",
        "```"
      ]
    },
    {
      "cell_type": "markdown",
      "metadata": {
        "id": "BKR1JKgLvVZJ"
      },
      "source": [
        "#### Question 3.3\n",
        "<div class=\"alert alert-info\">\n",
        "Plot the histogram in a bar chart.\n",
        "</div>"
      ]
    },
    {
      "cell_type": "markdown",
      "metadata": {
        "id": "rbVK8VXNvVZJ"
      },
      "source": [
        "```python\n",
        "# char chart with x-lables\n",
        "x_indexes = range(...)\n",
        "x_names = list(...)\n",
        "plt.bar( x_indexes, histogram, align='center')\n",
        "plt.xticks(x_indexes, x_names)\n",
        "plt.show()\n",
        "```"
      ]
    },
    {
      "cell_type": "markdown",
      "metadata": {
        "id": "8irNyvyZvVZJ"
      },
      "source": [
        "## 2.4. Pandas\n",
        "\n",
        "Pandas is an open source library providing high-performance, easy-to-use data structures and data analysis tools for the Python programming language. Indeed, it is great for data manipulation, data analysis, and data visualization.\n",
        "\n",
        "### 2.4.1. Data structures\n",
        "Pandas introduces two useful (and powerful) structures: `Series` and `DataFrame`, both of which are built on top of NumPy.\n",
        "\n",
        "#### Series\n",
        "A `Series` is a one-dimensional object similar to an array, list, or even column in a table. It assigns a *labeled index* to each item in the Series. By default, each item will receive an index label from `0` to `N-1`, where `N` is the number items of `Series`.\n",
        "\n",
        "We can create a Series by passing a list of values, and let pandas create a default integer index.\n"
      ]
    },
    {
      "cell_type": "code",
      "metadata": {
        "id": "Qh_zxhqOvVZJ"
      },
      "source": [
        "import pandas as pd\n",
        "import numpy as np\n",
        "\n",
        "# create a Series with an arbitrary list\n",
        "s = pd.Series([3, 'Machine learning', 1.414259, -65545, 'Happy coding!'])\n",
        "print(s)"
      ],
      "execution_count": null,
      "outputs": []
    },
    {
      "cell_type": "markdown",
      "metadata": {
        "id": "-VLwNPdPvVZJ"
      },
      "source": [
        "Or, an index can be used explicitly when creating the `Series`."
      ]
    },
    {
      "cell_type": "code",
      "metadata": {
        "id": "ToQ8aHQdvVZJ"
      },
      "source": [
        "s = pd.Series([3, 'Machine learning', 1.414259, -65545, 'Happy coding!'],\n",
        "             index=['Col1', 'Col2', 'Col3', 4.1, 5])\n",
        "print(s)"
      ],
      "execution_count": null,
      "outputs": []
    },
    {
      "cell_type": "markdown",
      "metadata": {
        "id": "b7-aQOYHvVZJ"
      },
      "source": [
        "A `Series` can be constructed from a dictionary too."
      ]
    },
    {
      "cell_type": "code",
      "metadata": {
        "id": "7FT08xlkvVZJ"
      },
      "source": [
        "s = pd.Series({\n",
        "        'Col1': 3, 'Col2': 'Machine learning', \n",
        "        'Col3': 1.414259, 4.1: -65545, \n",
        "        5: 'Happy coding!'\n",
        "    })\n",
        "print(s)"
      ],
      "execution_count": null,
      "outputs": []
    },
    {
      "cell_type": "markdown",
      "metadata": {
        "id": "nqbjtdNzvVZK"
      },
      "source": [
        "We can access items in a `Series` in a same way as `Numpy`."
      ]
    },
    {
      "cell_type": "code",
      "metadata": {
        "id": "K20ae5U_vVZK"
      },
      "source": [
        "s = pd.Series({\n",
        "        'Col1': 3, 'Col2': -10, \n",
        "        'Col3': 1.414259, \n",
        "        4.1: -65545, \n",
        "        5: 8\n",
        "    })\n",
        "\n",
        "# get element which has index='Col1'\n",
        "print(\"s['Col1']=\", s['Col1'], \"\\n\")\n",
        "\n",
        "# get elements whose index is in a given list\n",
        "print(\"s[['Col1', 'Col3', 4.5]]=\", s[['Col1', 'Col3', 4.5]], \"\\n\")\n",
        "\n",
        "# use boolean indexing for selection\n",
        "print(s[s > 0], \"\\n\")\n",
        "\n",
        "# modify elements on the fly using boolean indexing\n",
        "s[s > 0] = 15\n",
        "\n",
        "print(s, \"\\n\")\n",
        "\n",
        "# mathematical operations can be done using operators and functions.\n",
        "print(s*10,  \"\\n\")\n",
        "print(np.square(s), \"\\n\")"
      ],
      "execution_count": null,
      "outputs": []
    },
    {
      "cell_type": "markdown",
      "metadata": {
        "id": "S00Y8WvAvVZK"
      },
      "source": [
        "#### DataFrame\n",
        "A DataFrame is a tabular data structure comprised of rows and columns, akin to database table, or R's data.frame object. In a loose way, we can also think of a DataFrame as a group of Series objects that share an index (the column names).\n",
        "\n",
        "We can create a DataFrame by passing a dict of objects that can be converted to series-like."
      ]
    },
    {
      "cell_type": "code",
      "metadata": {
        "id": "UngFb01vvVZK"
      },
      "source": [
        "data = {'year': [2013, 2014, 2015, 2013, 2014, 2015, 2013, 2014],\n",
        "        'team': ['Manchester United', 'Chelsea', 'Asernal', 'Liverpool', 'West Ham', 'Newcastle', 'Machester City', 'Tottenham'],\n",
        "        'wins': [11, 8, 10, 15, 11, 6, 10, 4],\n",
        "        'losses': [5, 8, 6, 1, 5, 10, 6, 12]}\n",
        "football = pd.DataFrame(data, columns=['year', 'team', 'wins', 'losses'])\n",
        "football"
      ],
      "execution_count": null,
      "outputs": []
    },
    {
      "cell_type": "markdown",
      "metadata": {
        "id": "hDs5bftjvVZK"
      },
      "source": [
        "We can store data as a CSV file, or read data from a CSV file."
      ]
    },
    {
      "cell_type": "code",
      "metadata": {
        "id": "6dZbt6PmvVZK"
      },
      "source": [
        "# save data to a csv file without the index\n",
        "football.to_csv('football.csv', index=False)\n",
        "\n",
        "from_csv = pd.read_csv('football.csv')\n",
        "from_csv.head()"
      ],
      "execution_count": null,
      "outputs": []
    },
    {
      "cell_type": "markdown",
      "metadata": {
        "id": "rbcn1I0hvVZK"
      },
      "source": [
        "To read a CSV file with a custom delimiter between values and custom columns' names, we can use parameters `sep` and `names` relatively.\n",
        "Moreover, Pandas also supports to read and write to [Excel file](http://pandas.pydata.org/pandas-docs/stable/io.html#io-excel) , sqlite database file, URL,  or even clipboard.\n",
        "\n",
        "We can have an overview on the data by using functions `info` and `describe`."
      ]
    },
    {
      "cell_type": "code",
      "metadata": {
        "id": "rqzGUOcavVZK"
      },
      "source": [
        "print(football.info(), \"\\n\")\n",
        "football.describe()"
      ],
      "execution_count": null,
      "outputs": []
    },
    {
      "cell_type": "markdown",
      "metadata": {
        "id": "1y_bmfmWvVZK"
      },
      "source": [
        "Numpy's regular slicing syntax works as well."
      ]
    },
    {
      "cell_type": "code",
      "metadata": {
        "id": "fxdYkr0jvVZL"
      },
      "source": [
        "print(football[0:2], \"\\n\")\n",
        "\n",
        "# show only the teams that have won more than 10 matches from 2014\n",
        "print(football[(football.year >= 2014) & (football.wins >= 10)])"
      ],
      "execution_count": null,
      "outputs": []
    },
    {
      "cell_type": "markdown",
      "metadata": {
        "id": "czPY2YuvvVZL"
      },
      "source": [
        "An important feature that Pandas supports is `JOIN`. Very often, the data comes from multiple sources, in multiple files. For example, we have 2 CSV files, one contains the information of Artists, the other contains information of Songs. If we want to query the artist name and his/her corresponding songs, we have to do joining two dataframe.\n",
        "\n",
        "Similar to SQL, in Pandas, you can do inner join, left outer join, right outer join and full outer join. Let's see a small example. Assume that we have two dataset of singers and songs. The relationship between two datasets is maintained by a constrain on `singer_code`."
      ]
    },
    {
      "cell_type": "code",
      "metadata": {
        "id": "drSznQWCvVZL"
      },
      "source": [
        "singers = pd.DataFrame({'singer_code': range(5), \n",
        "                           'singer_name': ['singer_a', 'singer_b', 'singer_c', 'singer_d', 'singer_e']})\n",
        "songs = pd.DataFrame({'singer_code': [2, 2, 3, 4, 5], \n",
        "                           'song_name': ['song_f', 'song_g', 'song_h', 'song_i', 'song_j']})\n",
        "print(singers)\n",
        "print('\\n')\n",
        "print(songs)"
      ],
      "execution_count": null,
      "outputs": []
    },
    {
      "cell_type": "code",
      "metadata": {
        "id": "Yv1bUiv0vVZL"
      },
      "source": [
        "# inner join\n",
        "pd.merge(singers, songs, on='singer_code', how='inner')"
      ],
      "execution_count": null,
      "outputs": []
    },
    {
      "cell_type": "code",
      "metadata": {
        "id": "if-rXAW_vVZL"
      },
      "source": [
        "# left join\n",
        "pd.merge(singers, songs, on='singer_code', how='left')"
      ],
      "execution_count": null,
      "outputs": []
    },
    {
      "cell_type": "code",
      "metadata": {
        "id": "7ROP1ON2vVZL"
      },
      "source": [
        "# right join\n",
        "pd.merge(singers, songs, on='singer_code', how='right')"
      ],
      "execution_count": null,
      "outputs": []
    },
    {
      "cell_type": "code",
      "metadata": {
        "id": "MsdwIp8_vVZL"
      },
      "source": [
        "# outer join (full join)\n",
        "pd.merge(singers, songs, on='singer_code', how='outer')"
      ],
      "execution_count": null,
      "outputs": []
    },
    {
      "cell_type": "markdown",
      "metadata": {
        "id": "0gAoElG3vVZL"
      },
      "source": [
        "We can also concatenate two dataframes vertically or horizontally via function `concat` and parameter `axis`. This function is useful when we need to append two similar datasets or to put them side by site"
      ]
    },
    {
      "cell_type": "code",
      "metadata": {
        "id": "Jqr555h7vVZL"
      },
      "source": [
        "# concat vertically\n",
        "pd.concat([singers, songs])"
      ],
      "execution_count": null,
      "outputs": []
    },
    {
      "cell_type": "code",
      "metadata": {
        "id": "uym7tOMivVZM"
      },
      "source": [
        "# concat horizontally\n",
        "pd.concat([singers, songs], axis=1)"
      ],
      "execution_count": null,
      "outputs": []
    },
    {
      "cell_type": "markdown",
      "metadata": {
        "id": "9-eHVxrfvVZM"
      },
      "source": [
        "When computing descriptive statistic, we usually need to aggregate data by each group. For example, to answer the question \"how many songs each singer has?\", we have to group data by each singer, and then calculate the number of songs in each group. Not that the result must contain the statistic of all singers in database (even if some of them have no song)"
      ]
    },
    {
      "cell_type": "code",
      "metadata": {
        "id": "oLYMsPr4vVZM"
      },
      "source": [
        "data = pd.merge(singers, songs, on='singer_code', how='left')\n",
        "\n",
        "# count the values of each column in group\n",
        "print(data.groupby('singer_code').count())\n",
        "\n",
        "print(\"\\n\")\n",
        "\n",
        "# count only song_name\n",
        "print(data.groupby('singer_code').song_name.count())\n",
        "\n",
        "print(\"\\n\")\n",
        "\n",
        "# count song name but ignore duplication, and order the result\n",
        "print(data.groupby('singer_code').song_name.nunique().sort_values(ascending=True))"
      ],
      "execution_count": null,
      "outputs": []
    },
    {
      "cell_type": "markdown",
      "metadata": {
        "id": "h2LOr8D0vVZM"
      },
      "source": [
        "### Question 4\n",
        "We have two datasets about music: [song](https://github.com/michiard/AML-COURSE/blob/master/data/song.tsv) and [album](https://github.com/michiard/AML-COURSE/blob/master/data/album.tsv).\n",
        "\n",
        "In the following questions, you **have to** use Pandas to load data and write code to answer these questions.\n",
        "\n",
        "\n",
        "#### Question 4.1\n",
        "<div class=\"alert alert-info\">\n",
        "Load both dataset into two dataframes and print the information of each dataframe\n",
        "\n",
        "**HINT**: \n",
        "\n",
        "- You can click button `Raw` on the github page of each dataset and copy the URL of the raw file.\n",
        "- The dataset can be load by using function `read_table`. For example: `df = pd.read_table(raw_url, sep='\\t')`\n",
        "</div>"
      ]
    },
    {
      "cell_type": "markdown",
      "metadata": {
        "id": "83Shd_hcvVZM"
      },
      "source": [
        "```python\n",
        "import pandas as pd\n",
        "\n",
        "songdb_url = 'https://raw.githubusercontent.com/DistributedSystemsGroup/Algorithmic-Machine-Learning/master/data/song.tsv'\n",
        "albumdb_url = 'https://raw.githubusercontent.com/DistributedSystemsGroup/Algorithmic-Machine-Learning/master/data/album.tsv'\n",
        "song_df = pd...\n",
        "album_df = pd...\n",
        "\n",
        "print(song_df...)\n",
        "print(album_df...)\n",
        "```"
      ]
    },
    {
      "cell_type": "markdown",
      "metadata": {
        "id": "jnpJt9rxvVZM"
      },
      "source": [
        "#### Question 4.2\n",
        "<div class=\"alert alert-info\">\n",
        "How many albums in this datasets ?\n",
        "\n",
        "How many songs in this datasets ?\n",
        "</div>"
      ]
    },
    {
      "cell_type": "markdown",
      "metadata": {
        "id": "8liPuGkxvVZM"
      },
      "source": [
        "```python\n",
        "print(\"number of albums:\", album_df....count())\n",
        "print(\"number of songs:\", song_df.Song...)\n",
        "```"
      ]
    },
    {
      "cell_type": "markdown",
      "metadata": {
        "id": "XMbsaShKvVZM"
      },
      "source": [
        "#### Question 4.3\n",
        "<div class=\"alert alert-info\">\n",
        "How many distinct singers in this dataset ?\n",
        "</div>"
      ]
    },
    {
      "cell_type": "markdown",
      "metadata": {
        "id": "PtcC_VGGvVZM"
      },
      "source": [
        "```python\n",
        "print(\"number distinct singers:\", len(...))\n",
        "```"
      ]
    },
    {
      "cell_type": "markdown",
      "metadata": {
        "id": "CsIvTGWavVZM"
      },
      "source": [
        "#### Question 4.4\n",
        "<div class=\"alert alert-info\">\n",
        "Is there any song that doesn't belong to any album ?\n",
        "\n",
        "Is there any album that has no song ?\n",
        "\n",
        "**HINT**: \n",
        "\n",
        "- To join two datasets on different key names, we use `left_on=` and `right_on=` instead of `on=`.\n",
        "- Funtion `notnull` and `isnull` help determining the value of a column is missing or not. For example:\n",
        "`df['song'].isnull()`.\n",
        "</div>"
      ]
    },
    {
      "cell_type": "markdown",
      "metadata": {
        "id": "Yrhli7IivVZN"
      },
      "source": [
        "```python\n",
        "fulldf = pd.merge(song_df, album_df, how='outer', left_on='Album', right_on='Album code')\n",
        "fulldf[fulldf['Song'].... & fulldf['Album']....]\n",
        "```"
      ]
    },
    {
      "cell_type": "markdown",
      "metadata": {
        "id": "GjpKtMxjvVZN"
      },
      "source": [
        "```python\n",
        "fulldf[fulldf['Song'].... & fulldf['Album code']....]\n",
        "```"
      ]
    },
    {
      "cell_type": "markdown",
      "metadata": {
        "id": "zBqCKJr2vVZN"
      },
      "source": [
        "#### Question 4.5\n",
        "<div class=\"alert alert-info\">\n",
        "How many songs in each albums of Michael Jackson ?\n",
        "</div>"
      ]
    },
    {
      "cell_type": "markdown",
      "metadata": {
        "id": "3Grp0o1UvVZN"
      },
      "source": [
        "```python\n",
        "\n",
        "# Try thinking like as for map reduce word count!!\n",
        "\n",
        "fulldf[fulldf['Singer']=='Michael Jackson']....\n",
        "```"
      ]
    },
    {
      "cell_type": "markdown",
      "metadata": {
        "id": "xPmCGJ1cvVZN"
      },
      "source": [
        "# Summary\n",
        "\n",
        "In this laboratory, we gained familiarity with the Jupyter Notebook environment, the Python programming language and its modules. In particular, we covered the Python syntax, Numpy - the core library for scientific computing, Matplotlib - a module to plot graphs, Pandas - a data analysis module. "
      ]
    },
    {
      "cell_type": "markdown",
      "metadata": {
        "id": "d8daDnu4vVZN"
      },
      "source": [
        "# References\n",
        "This notebook is inspired from:\n",
        "\n",
        "- [Python Numpy tutorial](http://cs231n.github.io/python-numpy-tutorial/)"
      ]
    }
  ]
}