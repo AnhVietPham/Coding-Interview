{
  "nbformat": 4,
  "nbformat_minor": 0,
  "metadata": {
    "colab": {
      "name": "Pandas-GroupBy-Count-sort_values.ipynb",
      "provenance": [],
      "authorship_tag": "ABX9TyMqnhnEjRgIl7JmPDw++T37",
      "include_colab_link": true
    },
    "kernelspec": {
      "name": "python3",
      "display_name": "Python 3"
    },
    "language_info": {
      "name": "python"
    }
  },
  "cells": [
    {
      "cell_type": "markdown",
      "metadata": {
        "id": "view-in-github",
        "colab_type": "text"
      },
      "source": [
        "<a href=\"https://colab.research.google.com/github/AnhVietPham/Computer-Science/blob/master/research-pandas/Pandas_GroupBy_Count_sort_values.ipynb\" target=\"_parent\"><img src=\"https://colab.research.google.com/assets/colab-badge.svg\" alt=\"Open In Colab\"/></a>"
      ]
    },
    {
      "cell_type": "markdown",
      "metadata": {
        "id": "dWtWrnXUUot3"
      },
      "source": [
        "# **How to Use Pandas GroupBy, Counts and Value Counts**\n",
        "https://www.kite.com/blog/python/pandas-groupby-count-value-count/"
      ]
    },
    {
      "cell_type": "code",
      "metadata": {
        "id": "Yh9I6dQLUnLg"
      },
      "source": [
        "import pandas as pd\n",
        "import numpy as np\n",
        "\n",
        "url = 'https://gist.githubusercontent.com/alexdebrie/b3f40efc3dd7664df5a20f5eee85e854/raw/ee3e6feccba2464cbbc2e185fb17961c53d2a7f5/stocks.csv'\n"
      ],
      "execution_count": 1,
      "outputs": []
    },
    {
      "cell_type": "code",
      "metadata": {
        "colab": {
          "base_uri": "https://localhost:8080/",
          "height": 514
        },
        "id": "LRvHV87PVeVt",
        "outputId": "ad8d361a-cb21-4df8-d22c-1c3cb7b03a81"
      },
      "source": [
        "df = pd.read_csv(url)\n",
        "df"
      ],
      "execution_count": 2,
      "outputs": [
        {
          "output_type": "execute_result",
          "data": {
            "text/html": [
              "<div>\n",
              "<style scoped>\n",
              "    .dataframe tbody tr th:only-of-type {\n",
              "        vertical-align: middle;\n",
              "    }\n",
              "\n",
              "    .dataframe tbody tr th {\n",
              "        vertical-align: top;\n",
              "    }\n",
              "\n",
              "    .dataframe thead th {\n",
              "        text-align: right;\n",
              "    }\n",
              "</style>\n",
              "<table border=\"1\" class=\"dataframe\">\n",
              "  <thead>\n",
              "    <tr style=\"text-align: right;\">\n",
              "      <th></th>\n",
              "      <th>date</th>\n",
              "      <th>symbol</th>\n",
              "      <th>open</th>\n",
              "      <th>high</th>\n",
              "      <th>low</th>\n",
              "      <th>close</th>\n",
              "      <th>volume</th>\n",
              "    </tr>\n",
              "  </thead>\n",
              "  <tbody>\n",
              "    <tr>\n",
              "      <th>0</th>\n",
              "      <td>2019-03-01</td>\n",
              "      <td>AMZN</td>\n",
              "      <td>1655.13</td>\n",
              "      <td>1674.26</td>\n",
              "      <td>1651.00</td>\n",
              "      <td>1671.73</td>\n",
              "      <td>4974877</td>\n",
              "    </tr>\n",
              "    <tr>\n",
              "      <th>1</th>\n",
              "      <td>2019-03-04</td>\n",
              "      <td>AMZN</td>\n",
              "      <td>1685.00</td>\n",
              "      <td>1709.43</td>\n",
              "      <td>1674.36</td>\n",
              "      <td>1696.17</td>\n",
              "      <td>6167358</td>\n",
              "    </tr>\n",
              "    <tr>\n",
              "      <th>2</th>\n",
              "      <td>2019-03-05</td>\n",
              "      <td>AMZN</td>\n",
              "      <td>1702.95</td>\n",
              "      <td>1707.80</td>\n",
              "      <td>1689.01</td>\n",
              "      <td>1692.43</td>\n",
              "      <td>3681522</td>\n",
              "    </tr>\n",
              "    <tr>\n",
              "      <th>3</th>\n",
              "      <td>2019-03-06</td>\n",
              "      <td>AMZN</td>\n",
              "      <td>1695.97</td>\n",
              "      <td>1697.75</td>\n",
              "      <td>1668.28</td>\n",
              "      <td>1668.95</td>\n",
              "      <td>3996001</td>\n",
              "    </tr>\n",
              "    <tr>\n",
              "      <th>4</th>\n",
              "      <td>2019-03-07</td>\n",
              "      <td>AMZN</td>\n",
              "      <td>1667.37</td>\n",
              "      <td>1669.75</td>\n",
              "      <td>1620.51</td>\n",
              "      <td>1625.95</td>\n",
              "      <td>4957017</td>\n",
              "    </tr>\n",
              "    <tr>\n",
              "      <th>5</th>\n",
              "      <td>2019-03-01</td>\n",
              "      <td>AAPL</td>\n",
              "      <td>174.28</td>\n",
              "      <td>175.15</td>\n",
              "      <td>172.89</td>\n",
              "      <td>174.97</td>\n",
              "      <td>25886167</td>\n",
              "    </tr>\n",
              "    <tr>\n",
              "      <th>6</th>\n",
              "      <td>2019-03-04</td>\n",
              "      <td>AAPL</td>\n",
              "      <td>175.69</td>\n",
              "      <td>177.75</td>\n",
              "      <td>173.97</td>\n",
              "      <td>175.85</td>\n",
              "      <td>27436203</td>\n",
              "    </tr>\n",
              "    <tr>\n",
              "      <th>7</th>\n",
              "      <td>2019-03-05</td>\n",
              "      <td>AAPL</td>\n",
              "      <td>175.94</td>\n",
              "      <td>176.00</td>\n",
              "      <td>174.54</td>\n",
              "      <td>175.53</td>\n",
              "      <td>19737419</td>\n",
              "    </tr>\n",
              "    <tr>\n",
              "      <th>8</th>\n",
              "      <td>2019-03-06</td>\n",
              "      <td>AAPL</td>\n",
              "      <td>174.67</td>\n",
              "      <td>175.49</td>\n",
              "      <td>173.94</td>\n",
              "      <td>174.52</td>\n",
              "      <td>20810384</td>\n",
              "    </tr>\n",
              "    <tr>\n",
              "      <th>9</th>\n",
              "      <td>2019-03-07</td>\n",
              "      <td>AAPL</td>\n",
              "      <td>173.87</td>\n",
              "      <td>174.44</td>\n",
              "      <td>172.02</td>\n",
              "      <td>172.50</td>\n",
              "      <td>24796374</td>\n",
              "    </tr>\n",
              "    <tr>\n",
              "      <th>10</th>\n",
              "      <td>2019-03-01</td>\n",
              "      <td>GOOG</td>\n",
              "      <td>1124.90</td>\n",
              "      <td>1142.97</td>\n",
              "      <td>1124.75</td>\n",
              "      <td>1140.99</td>\n",
              "      <td>1450316</td>\n",
              "    </tr>\n",
              "    <tr>\n",
              "      <th>11</th>\n",
              "      <td>2019-03-04</td>\n",
              "      <td>GOOG</td>\n",
              "      <td>1146.99</td>\n",
              "      <td>1158.28</td>\n",
              "      <td>1130.69</td>\n",
              "      <td>1147.80</td>\n",
              "      <td>1446047</td>\n",
              "    </tr>\n",
              "    <tr>\n",
              "      <th>12</th>\n",
              "      <td>2019-03-05</td>\n",
              "      <td>GOOG</td>\n",
              "      <td>1150.06</td>\n",
              "      <td>1169.61</td>\n",
              "      <td>1146.19</td>\n",
              "      <td>1162.03</td>\n",
              "      <td>1443174</td>\n",
              "    </tr>\n",
              "    <tr>\n",
              "      <th>13</th>\n",
              "      <td>2019-03-06</td>\n",
              "      <td>GOOG</td>\n",
              "      <td>1162.49</td>\n",
              "      <td>1167.57</td>\n",
              "      <td>1155.49</td>\n",
              "      <td>1157.86</td>\n",
              "      <td>1099289</td>\n",
              "    </tr>\n",
              "    <tr>\n",
              "      <th>14</th>\n",
              "      <td>2019-03-07</td>\n",
              "      <td>GOOG</td>\n",
              "      <td>1155.72</td>\n",
              "      <td>1156.76</td>\n",
              "      <td>1134.91</td>\n",
              "      <td>1143.30</td>\n",
              "      <td>1166559</td>\n",
              "    </tr>\n",
              "  </tbody>\n",
              "</table>\n",
              "</div>"
            ],
            "text/plain": [
              "          date symbol     open     high      low    close    volume\n",
              "0   2019-03-01   AMZN  1655.13  1674.26  1651.00  1671.73   4974877\n",
              "1   2019-03-04   AMZN  1685.00  1709.43  1674.36  1696.17   6167358\n",
              "2   2019-03-05   AMZN  1702.95  1707.80  1689.01  1692.43   3681522\n",
              "3   2019-03-06   AMZN  1695.97  1697.75  1668.28  1668.95   3996001\n",
              "4   2019-03-07   AMZN  1667.37  1669.75  1620.51  1625.95   4957017\n",
              "5   2019-03-01   AAPL   174.28   175.15   172.89   174.97  25886167\n",
              "6   2019-03-04   AAPL   175.69   177.75   173.97   175.85  27436203\n",
              "7   2019-03-05   AAPL   175.94   176.00   174.54   175.53  19737419\n",
              "8   2019-03-06   AAPL   174.67   175.49   173.94   174.52  20810384\n",
              "9   2019-03-07   AAPL   173.87   174.44   172.02   172.50  24796374\n",
              "10  2019-03-01   GOOG  1124.90  1142.97  1124.75  1140.99   1450316\n",
              "11  2019-03-04   GOOG  1146.99  1158.28  1130.69  1147.80   1446047\n",
              "12  2019-03-05   GOOG  1150.06  1169.61  1146.19  1162.03   1443174\n",
              "13  2019-03-06   GOOG  1162.49  1167.57  1155.49  1157.86   1099289\n",
              "14  2019-03-07   GOOG  1155.72  1156.76  1134.91  1143.30   1166559"
            ]
          },
          "metadata": {
            "tags": []
          },
          "execution_count": 2
        }
      ]
    },
    {
      "cell_type": "code",
      "metadata": {
        "id": "AUyHrjZaXhaQ"
      },
      "source": [
        ""
      ],
      "execution_count": null,
      "outputs": []
    },
    {
      "cell_type": "markdown",
      "metadata": {
        "id": "QVAZlKsRVpWP"
      },
      "source": [
        "# **Basic Pandas groupby usage**"
      ]
    },
    {
      "cell_type": "code",
      "metadata": {
        "colab": {
          "base_uri": "https://localhost:8080/"
        },
        "id": "GI-fOsMzVmri",
        "outputId": "94418dd8-000d-44af-8e90-a837a0280142"
      },
      "source": [
        "symbols = df.groupby('symbol')\n",
        "print(symbols.groups)"
      ],
      "execution_count": 5,
      "outputs": [
        {
          "output_type": "stream",
          "text": [
            "{'AAPL': [5, 6, 7, 8, 9], 'AMZN': [0, 1, 2, 3, 4], 'GOOG': [10, 11, 12, 13, 14]}\n"
          ],
          "name": "stdout"
        }
      ]
    },
    {
      "cell_type": "code",
      "metadata": {
        "colab": {
          "base_uri": "https://localhost:8080/"
        },
        "id": "3YbHdCEuWBJw",
        "outputId": "205b0205-1870-4366-fc29-426dab80f075"
      },
      "source": [
        "def increased(idx):\n",
        "  print(df.loc[idx])\n",
        "  return df.loc[idx].close > df.loc[idx].open\n",
        "\n",
        "df.groupby(increased).groups"
      ],
      "execution_count": 8,
      "outputs": [
        {
          "output_type": "stream",
          "text": [
            "date      2019-03-01\n",
            "symbol          AMZN\n",
            "open         1655.13\n",
            "high         1674.26\n",
            "low             1651\n",
            "close        1671.73\n",
            "volume       4974877\n",
            "Name: 0, dtype: object\n",
            "date      2019-03-04\n",
            "symbol          AMZN\n",
            "open            1685\n",
            "high         1709.43\n",
            "low          1674.36\n",
            "close        1696.17\n",
            "volume       6167358\n",
            "Name: 1, dtype: object\n",
            "date      2019-03-05\n",
            "symbol          AMZN\n",
            "open         1702.95\n",
            "high          1707.8\n",
            "low          1689.01\n",
            "close        1692.43\n",
            "volume       3681522\n",
            "Name: 2, dtype: object\n",
            "date      2019-03-06\n",
            "symbol          AMZN\n",
            "open         1695.97\n",
            "high         1697.75\n",
            "low          1668.28\n",
            "close        1668.95\n",
            "volume       3996001\n",
            "Name: 3, dtype: object\n",
            "date      2019-03-07\n",
            "symbol          AMZN\n",
            "open         1667.37\n",
            "high         1669.75\n",
            "low          1620.51\n",
            "close        1625.95\n",
            "volume       4957017\n",
            "Name: 4, dtype: object\n",
            "date      2019-03-01\n",
            "symbol          AAPL\n",
            "open          174.28\n",
            "high          175.15\n",
            "low           172.89\n",
            "close         174.97\n",
            "volume      25886167\n",
            "Name: 5, dtype: object\n",
            "date      2019-03-04\n",
            "symbol          AAPL\n",
            "open          175.69\n",
            "high          177.75\n",
            "low           173.97\n",
            "close         175.85\n",
            "volume      27436203\n",
            "Name: 6, dtype: object\n",
            "date      2019-03-05\n",
            "symbol          AAPL\n",
            "open          175.94\n",
            "high             176\n",
            "low           174.54\n",
            "close         175.53\n",
            "volume      19737419\n",
            "Name: 7, dtype: object\n",
            "date      2019-03-06\n",
            "symbol          AAPL\n",
            "open          174.67\n",
            "high          175.49\n",
            "low           173.94\n",
            "close         174.52\n",
            "volume      20810384\n",
            "Name: 8, dtype: object\n",
            "date      2019-03-07\n",
            "symbol          AAPL\n",
            "open          173.87\n",
            "high          174.44\n",
            "low           172.02\n",
            "close          172.5\n",
            "volume      24796374\n",
            "Name: 9, dtype: object\n",
            "date      2019-03-01\n",
            "symbol          GOOG\n",
            "open          1124.9\n",
            "high         1142.97\n",
            "low          1124.75\n",
            "close        1140.99\n",
            "volume       1450316\n",
            "Name: 10, dtype: object\n",
            "date      2019-03-04\n",
            "symbol          GOOG\n",
            "open         1146.99\n",
            "high         1158.28\n",
            "low          1130.69\n",
            "close         1147.8\n",
            "volume       1446047\n",
            "Name: 11, dtype: object\n",
            "date      2019-03-05\n",
            "symbol          GOOG\n",
            "open         1150.06\n",
            "high         1169.61\n",
            "low          1146.19\n",
            "close        1162.03\n",
            "volume       1443174\n",
            "Name: 12, dtype: object\n",
            "date      2019-03-06\n",
            "symbol          GOOG\n",
            "open         1162.49\n",
            "high         1167.57\n",
            "low          1155.49\n",
            "close        1157.86\n",
            "volume       1099289\n",
            "Name: 13, dtype: object\n",
            "date      2019-03-07\n",
            "symbol          GOOG\n",
            "open         1155.72\n",
            "high         1156.76\n",
            "low          1134.91\n",
            "close         1143.3\n",
            "volume       1166559\n",
            "Name: 14, dtype: object\n"
          ],
          "name": "stdout"
        },
        {
          "output_type": "execute_result",
          "data": {
            "text/plain": [
              "{False: [2, 3, 4, 7, 8, 9, 13, 14], True: [0, 1, 5, 6, 10, 11, 12]}"
            ]
          },
          "metadata": {
            "tags": []
          },
          "execution_count": 8
        }
      ]
    },
    {
      "cell_type": "code",
      "metadata": {
        "colab": {
          "base_uri": "https://localhost:8080/",
          "height": 142
        },
        "id": "5e2t4f0pf7u_",
        "outputId": "a768ca3d-dc1b-438c-b2aa-fb72540732e9"
      },
      "source": [
        "df.groupby('symbol').count().reset_index()"
      ],
      "execution_count": 10,
      "outputs": [
        {
          "output_type": "execute_result",
          "data": {
            "text/html": [
              "<div>\n",
              "<style scoped>\n",
              "    .dataframe tbody tr th:only-of-type {\n",
              "        vertical-align: middle;\n",
              "    }\n",
              "\n",
              "    .dataframe tbody tr th {\n",
              "        vertical-align: top;\n",
              "    }\n",
              "\n",
              "    .dataframe thead th {\n",
              "        text-align: right;\n",
              "    }\n",
              "</style>\n",
              "<table border=\"1\" class=\"dataframe\">\n",
              "  <thead>\n",
              "    <tr style=\"text-align: right;\">\n",
              "      <th></th>\n",
              "      <th>symbol</th>\n",
              "      <th>date</th>\n",
              "      <th>open</th>\n",
              "      <th>high</th>\n",
              "      <th>low</th>\n",
              "      <th>close</th>\n",
              "      <th>volume</th>\n",
              "    </tr>\n",
              "  </thead>\n",
              "  <tbody>\n",
              "    <tr>\n",
              "      <th>0</th>\n",
              "      <td>AAPL</td>\n",
              "      <td>5</td>\n",
              "      <td>5</td>\n",
              "      <td>5</td>\n",
              "      <td>5</td>\n",
              "      <td>5</td>\n",
              "      <td>5</td>\n",
              "    </tr>\n",
              "    <tr>\n",
              "      <th>1</th>\n",
              "      <td>AMZN</td>\n",
              "      <td>5</td>\n",
              "      <td>5</td>\n",
              "      <td>5</td>\n",
              "      <td>5</td>\n",
              "      <td>5</td>\n",
              "      <td>5</td>\n",
              "    </tr>\n",
              "    <tr>\n",
              "      <th>2</th>\n",
              "      <td>GOOG</td>\n",
              "      <td>5</td>\n",
              "      <td>5</td>\n",
              "      <td>5</td>\n",
              "      <td>5</td>\n",
              "      <td>5</td>\n",
              "      <td>5</td>\n",
              "    </tr>\n",
              "  </tbody>\n",
              "</table>\n",
              "</div>"
            ],
            "text/plain": [
              "  symbol  date  open  high  low  close  volume\n",
              "0   AAPL     5     5     5    5      5       5\n",
              "1   AMZN     5     5     5    5      5       5\n",
              "2   GOOG     5     5     5    5      5       5"
            ]
          },
          "metadata": {
            "tags": []
          },
          "execution_count": 10
        }
      ]
    },
    {
      "cell_type": "markdown",
      "metadata": {
        "id": "b35Z7HFHhRks"
      },
      "source": [
        "# **pandas.DataFrame.sort_values**"
      ]
    },
    {
      "cell_type": "code",
      "metadata": {
        "colab": {
          "base_uri": "https://localhost:8080/",
          "height": 266
        },
        "id": "xIEt4h1MhQ7v",
        "outputId": "83e73c3f-084f-4917-dacc-3361a90b00b7"
      },
      "source": [
        "df = pd.DataFrame({\n",
        "    'col1': ['A', 'A', 'B', np.nan, 'D', 'C', 'E'],\n",
        "    'col2': [2, 1, 9, 8, 7, 4, 2],\n",
        "    'col3': [0, 1, 9, 4, 2, 3, 9],\n",
        "    'col4': ['a', 'B', 'c', 'D', 'e', 'F', 'G']\n",
        "})\n",
        "df"
      ],
      "execution_count": 35,
      "outputs": [
        {
          "output_type": "execute_result",
          "data": {
            "text/html": [
              "<div>\n",
              "<style scoped>\n",
              "    .dataframe tbody tr th:only-of-type {\n",
              "        vertical-align: middle;\n",
              "    }\n",
              "\n",
              "    .dataframe tbody tr th {\n",
              "        vertical-align: top;\n",
              "    }\n",
              "\n",
              "    .dataframe thead th {\n",
              "        text-align: right;\n",
              "    }\n",
              "</style>\n",
              "<table border=\"1\" class=\"dataframe\">\n",
              "  <thead>\n",
              "    <tr style=\"text-align: right;\">\n",
              "      <th></th>\n",
              "      <th>col1</th>\n",
              "      <th>col2</th>\n",
              "      <th>col3</th>\n",
              "      <th>col4</th>\n",
              "    </tr>\n",
              "  </thead>\n",
              "  <tbody>\n",
              "    <tr>\n",
              "      <th>0</th>\n",
              "      <td>A</td>\n",
              "      <td>2</td>\n",
              "      <td>0</td>\n",
              "      <td>a</td>\n",
              "    </tr>\n",
              "    <tr>\n",
              "      <th>1</th>\n",
              "      <td>A</td>\n",
              "      <td>1</td>\n",
              "      <td>1</td>\n",
              "      <td>B</td>\n",
              "    </tr>\n",
              "    <tr>\n",
              "      <th>2</th>\n",
              "      <td>B</td>\n",
              "      <td>9</td>\n",
              "      <td>9</td>\n",
              "      <td>c</td>\n",
              "    </tr>\n",
              "    <tr>\n",
              "      <th>3</th>\n",
              "      <td>NaN</td>\n",
              "      <td>8</td>\n",
              "      <td>4</td>\n",
              "      <td>D</td>\n",
              "    </tr>\n",
              "    <tr>\n",
              "      <th>4</th>\n",
              "      <td>D</td>\n",
              "      <td>7</td>\n",
              "      <td>2</td>\n",
              "      <td>e</td>\n",
              "    </tr>\n",
              "    <tr>\n",
              "      <th>5</th>\n",
              "      <td>C</td>\n",
              "      <td>4</td>\n",
              "      <td>3</td>\n",
              "      <td>F</td>\n",
              "    </tr>\n",
              "    <tr>\n",
              "      <th>6</th>\n",
              "      <td>E</td>\n",
              "      <td>2</td>\n",
              "      <td>9</td>\n",
              "      <td>G</td>\n",
              "    </tr>\n",
              "  </tbody>\n",
              "</table>\n",
              "</div>"
            ],
            "text/plain": [
              "  col1  col2  col3 col4\n",
              "0    A     2     0    a\n",
              "1    A     1     1    B\n",
              "2    B     9     9    c\n",
              "3  NaN     8     4    D\n",
              "4    D     7     2    e\n",
              "5    C     4     3    F\n",
              "6    E     2     9    G"
            ]
          },
          "metadata": {
            "tags": []
          },
          "execution_count": 35
        }
      ]
    },
    {
      "cell_type": "code",
      "metadata": {
        "colab": {
          "base_uri": "https://localhost:8080/",
          "height": 111
        },
        "id": "kLgjL0_LpHdV",
        "outputId": "e98f9492-6a5d-4ce5-f770-a5cf87bd5525"
      },
      "source": [
        "get_data = df[df[\"col2\"] == 2]\n",
        "get_data"
      ],
      "execution_count": 36,
      "outputs": [
        {
          "output_type": "execute_result",
          "data": {
            "text/html": [
              "<div>\n",
              "<style scoped>\n",
              "    .dataframe tbody tr th:only-of-type {\n",
              "        vertical-align: middle;\n",
              "    }\n",
              "\n",
              "    .dataframe tbody tr th {\n",
              "        vertical-align: top;\n",
              "    }\n",
              "\n",
              "    .dataframe thead th {\n",
              "        text-align: right;\n",
              "    }\n",
              "</style>\n",
              "<table border=\"1\" class=\"dataframe\">\n",
              "  <thead>\n",
              "    <tr style=\"text-align: right;\">\n",
              "      <th></th>\n",
              "      <th>col1</th>\n",
              "      <th>col2</th>\n",
              "      <th>col3</th>\n",
              "      <th>col4</th>\n",
              "    </tr>\n",
              "  </thead>\n",
              "  <tbody>\n",
              "    <tr>\n",
              "      <th>0</th>\n",
              "      <td>A</td>\n",
              "      <td>2</td>\n",
              "      <td>0</td>\n",
              "      <td>a</td>\n",
              "    </tr>\n",
              "    <tr>\n",
              "      <th>6</th>\n",
              "      <td>E</td>\n",
              "      <td>2</td>\n",
              "      <td>9</td>\n",
              "      <td>G</td>\n",
              "    </tr>\n",
              "  </tbody>\n",
              "</table>\n",
              "</div>"
            ],
            "text/plain": [
              "  col1  col2  col3 col4\n",
              "0    A     2     0    a\n",
              "6    E     2     9    G"
            ]
          },
          "metadata": {
            "tags": []
          },
          "execution_count": 36
        }
      ]
    },
    {
      "cell_type": "code",
      "metadata": {
        "colab": {
          "base_uri": "https://localhost:8080/",
          "height": 235
        },
        "id": "VIegMjxGh2SB",
        "outputId": "4d1a39fb-3ef9-4598-a57e-0ceeec755dc1"
      },
      "source": [
        "df.sort_values(by=['col1'])"
      ],
      "execution_count": 19,
      "outputs": [
        {
          "output_type": "execute_result",
          "data": {
            "text/html": [
              "<div>\n",
              "<style scoped>\n",
              "    .dataframe tbody tr th:only-of-type {\n",
              "        vertical-align: middle;\n",
              "    }\n",
              "\n",
              "    .dataframe tbody tr th {\n",
              "        vertical-align: top;\n",
              "    }\n",
              "\n",
              "    .dataframe thead th {\n",
              "        text-align: right;\n",
              "    }\n",
              "</style>\n",
              "<table border=\"1\" class=\"dataframe\">\n",
              "  <thead>\n",
              "    <tr style=\"text-align: right;\">\n",
              "      <th></th>\n",
              "      <th>col1</th>\n",
              "      <th>col2</th>\n",
              "      <th>col3</th>\n",
              "      <th>col4</th>\n",
              "    </tr>\n",
              "  </thead>\n",
              "  <tbody>\n",
              "    <tr>\n",
              "      <th>0</th>\n",
              "      <td>A</td>\n",
              "      <td>2</td>\n",
              "      <td>0</td>\n",
              "      <td>a</td>\n",
              "    </tr>\n",
              "    <tr>\n",
              "      <th>1</th>\n",
              "      <td>A</td>\n",
              "      <td>1</td>\n",
              "      <td>1</td>\n",
              "      <td>B</td>\n",
              "    </tr>\n",
              "    <tr>\n",
              "      <th>2</th>\n",
              "      <td>B</td>\n",
              "      <td>9</td>\n",
              "      <td>9</td>\n",
              "      <td>c</td>\n",
              "    </tr>\n",
              "    <tr>\n",
              "      <th>5</th>\n",
              "      <td>C</td>\n",
              "      <td>4</td>\n",
              "      <td>3</td>\n",
              "      <td>F</td>\n",
              "    </tr>\n",
              "    <tr>\n",
              "      <th>4</th>\n",
              "      <td>D</td>\n",
              "      <td>7</td>\n",
              "      <td>2</td>\n",
              "      <td>e</td>\n",
              "    </tr>\n",
              "    <tr>\n",
              "      <th>3</th>\n",
              "      <td>NaN</td>\n",
              "      <td>8</td>\n",
              "      <td>4</td>\n",
              "      <td>D</td>\n",
              "    </tr>\n",
              "  </tbody>\n",
              "</table>\n",
              "</div>"
            ],
            "text/plain": [
              "  col1  col2  col3 col4\n",
              "0    A     2     0    a\n",
              "1    A     1     1    B\n",
              "2    B     9     9    c\n",
              "5    C     4     3    F\n",
              "4    D     7     2    e\n",
              "3  NaN     8     4    D"
            ]
          },
          "metadata": {
            "tags": []
          },
          "execution_count": 19
        }
      ]
    },
    {
      "cell_type": "code",
      "metadata": {
        "colab": {
          "base_uri": "https://localhost:8080/",
          "height": 235
        },
        "id": "Llb6PHLJiFz3",
        "outputId": "c9f894b4-d42e-47a4-f280-0a3ecaf89fc5"
      },
      "source": [
        "df.sort_values(by=['col1', 'col2'])"
      ],
      "execution_count": 20,
      "outputs": [
        {
          "output_type": "execute_result",
          "data": {
            "text/html": [
              "<div>\n",
              "<style scoped>\n",
              "    .dataframe tbody tr th:only-of-type {\n",
              "        vertical-align: middle;\n",
              "    }\n",
              "\n",
              "    .dataframe tbody tr th {\n",
              "        vertical-align: top;\n",
              "    }\n",
              "\n",
              "    .dataframe thead th {\n",
              "        text-align: right;\n",
              "    }\n",
              "</style>\n",
              "<table border=\"1\" class=\"dataframe\">\n",
              "  <thead>\n",
              "    <tr style=\"text-align: right;\">\n",
              "      <th></th>\n",
              "      <th>col1</th>\n",
              "      <th>col2</th>\n",
              "      <th>col3</th>\n",
              "      <th>col4</th>\n",
              "    </tr>\n",
              "  </thead>\n",
              "  <tbody>\n",
              "    <tr>\n",
              "      <th>1</th>\n",
              "      <td>A</td>\n",
              "      <td>1</td>\n",
              "      <td>1</td>\n",
              "      <td>B</td>\n",
              "    </tr>\n",
              "    <tr>\n",
              "      <th>0</th>\n",
              "      <td>A</td>\n",
              "      <td>2</td>\n",
              "      <td>0</td>\n",
              "      <td>a</td>\n",
              "    </tr>\n",
              "    <tr>\n",
              "      <th>2</th>\n",
              "      <td>B</td>\n",
              "      <td>9</td>\n",
              "      <td>9</td>\n",
              "      <td>c</td>\n",
              "    </tr>\n",
              "    <tr>\n",
              "      <th>5</th>\n",
              "      <td>C</td>\n",
              "      <td>4</td>\n",
              "      <td>3</td>\n",
              "      <td>F</td>\n",
              "    </tr>\n",
              "    <tr>\n",
              "      <th>4</th>\n",
              "      <td>D</td>\n",
              "      <td>7</td>\n",
              "      <td>2</td>\n",
              "      <td>e</td>\n",
              "    </tr>\n",
              "    <tr>\n",
              "      <th>3</th>\n",
              "      <td>NaN</td>\n",
              "      <td>8</td>\n",
              "      <td>4</td>\n",
              "      <td>D</td>\n",
              "    </tr>\n",
              "  </tbody>\n",
              "</table>\n",
              "</div>"
            ],
            "text/plain": [
              "  col1  col2  col3 col4\n",
              "1    A     1     1    B\n",
              "0    A     2     0    a\n",
              "2    B     9     9    c\n",
              "5    C     4     3    F\n",
              "4    D     7     2    e\n",
              "3  NaN     8     4    D"
            ]
          },
          "metadata": {
            "tags": []
          },
          "execution_count": 20
        }
      ]
    },
    {
      "cell_type": "code",
      "metadata": {
        "colab": {
          "base_uri": "https://localhost:8080/",
          "height": 235
        },
        "id": "KzVK-UUIiZX-",
        "outputId": "2420aa0a-d79d-47b5-eed0-0de4a5a8e8dd"
      },
      "source": [
        "df.sort_values(by=['col2'], ascending=False)"
      ],
      "execution_count": 21,
      "outputs": [
        {
          "output_type": "execute_result",
          "data": {
            "text/html": [
              "<div>\n",
              "<style scoped>\n",
              "    .dataframe tbody tr th:only-of-type {\n",
              "        vertical-align: middle;\n",
              "    }\n",
              "\n",
              "    .dataframe tbody tr th {\n",
              "        vertical-align: top;\n",
              "    }\n",
              "\n",
              "    .dataframe thead th {\n",
              "        text-align: right;\n",
              "    }\n",
              "</style>\n",
              "<table border=\"1\" class=\"dataframe\">\n",
              "  <thead>\n",
              "    <tr style=\"text-align: right;\">\n",
              "      <th></th>\n",
              "      <th>col1</th>\n",
              "      <th>col2</th>\n",
              "      <th>col3</th>\n",
              "      <th>col4</th>\n",
              "    </tr>\n",
              "  </thead>\n",
              "  <tbody>\n",
              "    <tr>\n",
              "      <th>2</th>\n",
              "      <td>B</td>\n",
              "      <td>9</td>\n",
              "      <td>9</td>\n",
              "      <td>c</td>\n",
              "    </tr>\n",
              "    <tr>\n",
              "      <th>3</th>\n",
              "      <td>NaN</td>\n",
              "      <td>8</td>\n",
              "      <td>4</td>\n",
              "      <td>D</td>\n",
              "    </tr>\n",
              "    <tr>\n",
              "      <th>4</th>\n",
              "      <td>D</td>\n",
              "      <td>7</td>\n",
              "      <td>2</td>\n",
              "      <td>e</td>\n",
              "    </tr>\n",
              "    <tr>\n",
              "      <th>5</th>\n",
              "      <td>C</td>\n",
              "      <td>4</td>\n",
              "      <td>3</td>\n",
              "      <td>F</td>\n",
              "    </tr>\n",
              "    <tr>\n",
              "      <th>0</th>\n",
              "      <td>A</td>\n",
              "      <td>2</td>\n",
              "      <td>0</td>\n",
              "      <td>a</td>\n",
              "    </tr>\n",
              "    <tr>\n",
              "      <th>1</th>\n",
              "      <td>A</td>\n",
              "      <td>1</td>\n",
              "      <td>1</td>\n",
              "      <td>B</td>\n",
              "    </tr>\n",
              "  </tbody>\n",
              "</table>\n",
              "</div>"
            ],
            "text/plain": [
              "  col1  col2  col3 col4\n",
              "2    B     9     9    c\n",
              "3  NaN     8     4    D\n",
              "4    D     7     2    e\n",
              "5    C     4     3    F\n",
              "0    A     2     0    a\n",
              "1    A     1     1    B"
            ]
          },
          "metadata": {
            "tags": []
          },
          "execution_count": 21
        }
      ]
    },
    {
      "cell_type": "code",
      "metadata": {
        "colab": {
          "base_uri": "https://localhost:8080/",
          "height": 235
        },
        "id": "kgYm6CBOmp8-",
        "outputId": "12f755dc-3d84-45cf-a93a-5c2ea61190cb"
      },
      "source": [
        "df.sort_values(by=['col2'], ascending=False)"
      ],
      "execution_count": 23,
      "outputs": [
        {
          "output_type": "execute_result",
          "data": {
            "text/html": [
              "<div>\n",
              "<style scoped>\n",
              "    .dataframe tbody tr th:only-of-type {\n",
              "        vertical-align: middle;\n",
              "    }\n",
              "\n",
              "    .dataframe tbody tr th {\n",
              "        vertical-align: top;\n",
              "    }\n",
              "\n",
              "    .dataframe thead th {\n",
              "        text-align: right;\n",
              "    }\n",
              "</style>\n",
              "<table border=\"1\" class=\"dataframe\">\n",
              "  <thead>\n",
              "    <tr style=\"text-align: right;\">\n",
              "      <th></th>\n",
              "      <th>col1</th>\n",
              "      <th>col2</th>\n",
              "      <th>col3</th>\n",
              "      <th>col4</th>\n",
              "    </tr>\n",
              "  </thead>\n",
              "  <tbody>\n",
              "    <tr>\n",
              "      <th>2</th>\n",
              "      <td>B</td>\n",
              "      <td>9</td>\n",
              "      <td>9</td>\n",
              "      <td>c</td>\n",
              "    </tr>\n",
              "    <tr>\n",
              "      <th>3</th>\n",
              "      <td>NaN</td>\n",
              "      <td>8</td>\n",
              "      <td>4</td>\n",
              "      <td>D</td>\n",
              "    </tr>\n",
              "    <tr>\n",
              "      <th>4</th>\n",
              "      <td>D</td>\n",
              "      <td>7</td>\n",
              "      <td>2</td>\n",
              "      <td>e</td>\n",
              "    </tr>\n",
              "    <tr>\n",
              "      <th>5</th>\n",
              "      <td>C</td>\n",
              "      <td>4</td>\n",
              "      <td>3</td>\n",
              "      <td>F</td>\n",
              "    </tr>\n",
              "    <tr>\n",
              "      <th>0</th>\n",
              "      <td>A</td>\n",
              "      <td>2</td>\n",
              "      <td>0</td>\n",
              "      <td>a</td>\n",
              "    </tr>\n",
              "    <tr>\n",
              "      <th>1</th>\n",
              "      <td>A</td>\n",
              "      <td>1</td>\n",
              "      <td>1</td>\n",
              "      <td>B</td>\n",
              "    </tr>\n",
              "  </tbody>\n",
              "</table>\n",
              "</div>"
            ],
            "text/plain": [
              "  col1  col2  col3 col4\n",
              "2    B     9     9    c\n",
              "3  NaN     8     4    D\n",
              "4    D     7     2    e\n",
              "5    C     4     3    F\n",
              "0    A     2     0    a\n",
              "1    A     1     1    B"
            ]
          },
          "metadata": {
            "tags": []
          },
          "execution_count": 23
        }
      ]
    }
  ]
}