{
  "nbformat": 4,
  "nbformat_minor": 0,
  "metadata": {
    "colab": {
      "name": "Data-Analysis.ipynb",
      "provenance": [],
      "collapsed_sections": [],
      "authorship_tag": "ABX9TyNRfQc39RwVBVLn0nOgBtmk",
      "include_colab_link": true
    },
    "kernelspec": {
      "name": "python3",
      "display_name": "Python 3"
    },
    "language_info": {
      "name": "python"
    }
  },
  "cells": [
    {
      "cell_type": "markdown",
      "metadata": {
        "id": "view-in-github",
        "colab_type": "text"
      },
      "source": [
        "<a href=\"https://colab.research.google.com/github/AnhVietPham/Computer-Science/blob/master/Data_Analysis.ipynb\" target=\"_parent\"><img src=\"https://colab.research.google.com/assets/colab-badge.svg\" alt=\"Open In Colab\"/></a>"
      ]
    },
    {
      "cell_type": "code",
      "metadata": {
        "id": "ekFT1G4E0uqD"
      },
      "source": [
        "import numpy as np\n",
        "import torch"
      ],
      "execution_count": 3,
      "outputs": []
    },
    {
      "cell_type": "markdown",
      "metadata": {
        "id": "AcLdpCCU0ahV"
      },
      "source": [
        "# **Computational graph and Autograd**"
      ]
    },
    {
      "cell_type": "code",
      "metadata": {
        "colab": {
          "base_uri": "https://localhost:8080/"
        },
        "id": "mnl9GVh1zM7F",
        "outputId": "18df2eaa-659a-4fc5-d62e-b3c31794e716"
      },
      "source": [
        "a = torch.tensor(2., requires_grad = True)\n",
        "b = torch.tensor(1., requires_grad = True)\n",
        "c = a + b\n",
        "d = b + 1\n",
        "e = c * d\n",
        "c.retain_grad()\n",
        "d.retain_grad()\n",
        "e.retain_grad()\n",
        "e.backward()\n",
        "\n",
        "print(f' de/de = {e.grad}')\n",
        "\n",
        "print(f' de/dc = {c.grad}')\n",
        "print(f' de/dd = {d.grad}')\n",
        "\n",
        "print(f' de/da = {a.grad}')\n",
        "print(f' de/db = {b.grad}')"
      ],
      "execution_count": null,
      "outputs": [
        {
          "output_type": "stream",
          "text": [
            " de/de = 1.0\n",
            " de/dc = 2.0\n",
            " de/dd = 3.0\n",
            " de/da = 2.0\n",
            " de/db = 5.0\n"
          ],
          "name": "stdout"
        }
      ]
    },
    {
      "cell_type": "markdown",
      "metadata": {
        "id": "wN_aEPQQ1lxn"
      },
      "source": [
        "# **Linear Regression**"
      ]
    },
    {
      "cell_type": "code",
      "metadata": {
        "id": "RZ8S-c2a1hes"
      },
      "source": [
        "import matplotlib.pyplot as plt\n",
        "import seaborn as sns\n",
        "import pandas as pd\n",
        "from scipy.stats import norm"
      ],
      "execution_count": 46,
      "outputs": []
    },
    {
      "cell_type": "code",
      "metadata": {
        "id": "3FHRhYHQ16Fo"
      },
      "source": [
        "xs = np.array([751.6,779.2,810.3,864.7,857.5,874.9,906.8,942.9,988.8,1015.7])\n",
        "ys = np.array([672.1,696.8,737.1,767.9,762.8,779.4,823.1,864.3,903.2,927.6])"
      ],
      "execution_count": 5,
      "outputs": []
    },
    {
      "cell_type": "code",
      "metadata": {
        "colab": {
          "base_uri": "https://localhost:8080/",
          "height": 265
        },
        "id": "07LC42Ij3Y4e",
        "outputId": "7abbe67e-c05d-40fa-f551-52e41609a3e9"
      },
      "source": [
        "plt.scatter(xs, ys)\n",
        "plt.show()"
      ],
      "execution_count": 7,
      "outputs": [
        {
          "output_type": "display_data",
          "data": {
            "image/png": "[encoded data removed]",
            "text/plain": [
              "<Figure size 432x288 with 1 Axes>"
            ]
          },
          "metadata": {
            "tags": [],
            "needs_background": "light"
          }
        }
      ]
    },
    {
      "cell_type": "code",
      "metadata": {
        "id": "VBAlWxZV3qVl"
      },
      "source": [
        "def pred(x, w0, w1):\n",
        "  return w0 + w1*x\n",
        "\n",
        "def loss(w0, w1, xs, ys):\n",
        "  rss = 0\n",
        "  n = len(xs)\n",
        "  for i in range(n):\n",
        "    y_hat = pred(xs[i], w0, w1)\n",
        "    eps = ys[i] - y_hat\n",
        "    rss += eps**2\n",
        "  return rss"
      ],
      "execution_count": 15,
      "outputs": []
    },
    {
      "cell_type": "code",
      "metadata": {
        "colab": {
          "base_uri": "https://localhost:8080/"
        },
        "id": "TPLBDZwU4_L1",
        "outputId": "0a2b2e91-a5cd-45ba-b595-5fc5f3e71d4f"
      },
      "source": [
        "w0 = 0\n",
        "w1 = 1\n",
        "print(loss(w0, w1, xs, ys))"
      ],
      "execution_count": 16,
      "outputs": [
        {
          "output_type": "stream",
          "text": [
            "74199.45\n"
          ],
          "name": "stdout"
        }
      ]
    },
    {
      "cell_type": "code",
      "metadata": {
        "colab": {
          "base_uri": "https://localhost:8080/"
        },
        "id": "6k5SP9SE5Wl1",
        "outputId": "a116ed35-d701-48d2-d254-4b16b7d22ccd"
      },
      "source": [
        "w0 = 1\n",
        "w1 = 2\n",
        "print(loss(w0, w1, xs, ys))"
      ],
      "execution_count": 17,
      "outputs": [
        {
          "output_type": "stream",
          "text": [
            "9403070.57\n"
          ],
          "name": "stdout"
        }
      ]
    },
    {
      "cell_type": "code",
      "metadata": {
        "colab": {
          "base_uri": "https://localhost:8080/",
          "height": 316
        },
        "id": "vgWvKrCk6TUE",
        "outputId": "acffc4ba-2673-498a-c098-06b7999f03c4"
      },
      "source": [
        "# Tìm mô hình tốt nhất thông qua đạo hàm của hàm loss\n",
        "w1 = ((xs*ys).mean() -  xs.mean() * ys.mean()) / ((xs**2).mean() - xs.mean()**2)\n",
        "print(w1)\n",
        "w0 = ys.mean() - w1 * xs.mean()\n",
        "print(w0)\n",
        "xmin = xs.min()\n",
        "xmax = xs.max()\n",
        "y1 = w0 + w1*xmin\n",
        "y2 = w0 + w1*xmax\n",
        "plt.scatter(xs, ys)\n",
        "plt.plot([xmin, xmax], [y1,y2], c = 'r')\n",
        "plt.show"
      ],
      "execution_count": 43,
      "outputs": [
        {
          "output_type": "stream",
          "text": [
            "0.9792669247154935\n",
            "-67.58065088685044\n"
          ],
          "name": "stdout"
        },
        {
          "output_type": "execute_result",
          "data": {
            "text/plain": [
              "<function matplotlib.pyplot.show>"
            ]
          },
          "metadata": {
            "tags": []
          },
          "execution_count": 43
        },
        {
          "output_type": "display_data",
          "data": {
            "image/png": "[encoded data removed]",
            "text/plain": [
              "<Figure size 432x288 with 1 Axes>"
            ]
          },
          "metadata": {
            "tags": [],
            "needs_background": "light"
          }
        }
      ]
    },
    {
      "cell_type": "code",
      "metadata": {
        "colab": {
          "base_uri": "https://localhost:8080/"
        },
        "id": "96Hz7ZoLKcMZ",
        "outputId": "bc59ac00-ba2c-4f38-e098-d7bdc8d16b78"
      },
      "source": [
        "epss = (pred(xs, w0, w1) - ys)\n",
        "print(epss.mean())"
      ],
      "execution_count": 44,
      "outputs": [
        {
          "output_type": "stream",
          "text": [
            "4.5474735088646414e-14\n"
          ],
          "name": "stdout"
        }
      ]
    },
    {
      "cell_type": "code",
      "metadata": {
        "id": "1ScQkZAsCwTn"
      },
      "source": [
        "# Hàm Gauss\n",
        "def gauss(mu, sigma, y):\n",
        "  return 1 / (sigma * np.sqrt(2 * np.pi)) * np.exp(-0.5 * ((y - mu) / sigma)** 2)\n",
        "\n",
        "def likelihood(x, y, w0, w1, sigma):\n",
        "  return norm.pdf(y, loc=w0 + w1 * x, scale=sigma)\n",
        "\n",
        "def likelihoodSet(w0, w1, sigma, xs, ys):\n",
        "  l = 1\n",
        "  n = len(xs)\n",
        "  for i in range(n):\n",
        "    l *= likelihood(w0,w1, sigma, xs[i], ys[i])\n",
        "  return l\n",
        "\n",
        "def loglikelihoodSet(w0, w1, sigma, xs, ys):\n",
        "  log = 1\n",
        "  n = len(xs)\n",
        "  for i in range(n):\n",
        "    log += np.log(likelihood(w0,w1, sigma, xs[i], ys[i]))\n",
        "  return log "
      ],
      "execution_count": 38,
      "outputs": []
    },
    {
      "cell_type": "code",
      "metadata": {
        "colab": {
          "base_uri": "https://localhost:8080/"
        },
        "id": "UDYs6DW-FBGo",
        "outputId": "60fe2600-dcae-4d03-e47b-0b5013962ee6"
      },
      "source": [
        "w0 = 0\n",
        "w1 = 1\n",
        "sigma = 1\n",
        "print(likelihoodSet(w0, w1, sigma, xs, ys))\n",
        "print(loglikelihoodSet(w0, w1, sigma, xs, ys))\n"
      ],
      "execution_count": 39,
      "outputs": [
        {
          "output_type": "stream",
          "text": [
            "1.0871630230772086e-33\n",
            "-74.90173649667757\n"
          ],
          "name": "stdout"
        }
      ]
    },
    {
      "cell_type": "code",
      "metadata": {
        "colab": {
          "base_uri": "https://localhost:8080/"
        },
        "id": "QjWiynRmIid3",
        "outputId": "132ce11b-2ac1-49a6-dd0e-2a87ae0748fb"
      },
      "source": [
        "w0 = 1\n",
        "w1 = 2\n",
        "sigma = 1\n",
        "print(likelihoodSet(w0, w1, sigma, xs, ys))\n",
        "print(loglikelihoodSet(w0, w1, sigma, xs, ys))"
      ],
      "execution_count": 40,
      "outputs": [
        {
          "output_type": "stream",
          "text": [
            "2.349267022038734e-36\n",
            "-81.03895997379765\n"
          ],
          "name": "stdout"
        }
      ]
    },
    {
      "cell_type": "code",
      "metadata": {
        "colab": {
          "base_uri": "https://localhost:8080/",
          "height": 204
        },
        "id": "JLy_TuM4PXhi",
        "outputId": "60cba595-ee9f-4ee9-da65-b4a47c01cab2"
      },
      "source": [
        "df = pd.read_excel('/content/data-vn.xlsx', sheet_name = 'Data')\n",
        "df.head()"
      ],
      "execution_count": 47,
      "outputs": [
        {
          "output_type": "execute_result",
          "data": {
            "text/html": [
              "<div>\n",
              "<style scoped>\n",
              "    .dataframe tbody tr th:only-of-type {\n",
              "        vertical-align: middle;\n",
              "    }\n",
              "\n",
              "    .dataframe tbody tr th {\n",
              "        vertical-align: top;\n",
              "    }\n",
              "\n",
              "    .dataframe thead th {\n",
              "        text-align: right;\n",
              "    }\n",
              "</style>\n",
              "<table border=\"1\" class=\"dataframe\">\n",
              "  <thead>\n",
              "    <tr style=\"text-align: right;\">\n",
              "      <th></th>\n",
              "      <th>Khu vực</th>\n",
              "      <th>Số người</th>\n",
              "      <th>Thu nhập</th>\n",
              "      <th>Chi tiêu</th>\n",
              "      <th>Chi ăn uống</th>\n",
              "    </tr>\n",
              "  </thead>\n",
              "  <tbody>\n",
              "    <tr>\n",
              "      <th>0</th>\n",
              "      <td>Thành thị</td>\n",
              "      <td>1</td>\n",
              "      <td>186.0</td>\n",
              "      <td>71.2</td>\n",
              "      <td>43.7</td>\n",
              "    </tr>\n",
              "    <tr>\n",
              "      <th>1</th>\n",
              "      <td>Thành thị</td>\n",
              "      <td>1</td>\n",
              "      <td>18.0</td>\n",
              "      <td>19.2</td>\n",
              "      <td>14.7</td>\n",
              "    </tr>\n",
              "    <tr>\n",
              "      <th>2</th>\n",
              "      <td>Thành thị</td>\n",
              "      <td>1</td>\n",
              "      <td>61.5</td>\n",
              "      <td>15.0</td>\n",
              "      <td>11.9</td>\n",
              "    </tr>\n",
              "    <tr>\n",
              "      <th>3</th>\n",
              "      <td>Thành thị</td>\n",
              "      <td>1</td>\n",
              "      <td>48.1</td>\n",
              "      <td>57.9</td>\n",
              "      <td>46.9</td>\n",
              "    </tr>\n",
              "    <tr>\n",
              "      <th>4</th>\n",
              "      <td>Thành thị</td>\n",
              "      <td>1</td>\n",
              "      <td>30.0</td>\n",
              "      <td>20.6</td>\n",
              "      <td>13.7</td>\n",
              "    </tr>\n",
              "  </tbody>\n",
              "</table>\n",
              "</div>"
            ],
            "text/plain": [
              "     Khu vực  Số người  Thu nhập  Chi tiêu  Chi ăn uống\n",
              "0  Thành thị         1     186.0      71.2         43.7\n",
              "1  Thành thị         1      18.0      19.2         14.7\n",
              "2  Thành thị         1      61.5      15.0         11.9\n",
              "3  Thành thị         1      48.1      57.9         46.9\n",
              "4  Thành thị         1      30.0      20.6         13.7"
            ]
          },
          "metadata": {
            "tags": []
          },
          "execution_count": 47
        }
      ]
    },
    {
      "cell_type": "code",
      "metadata": {
        "colab": {
          "base_uri": "https://localhost:8080/",
          "height": 382
        },
        "id": "yv52aLBvP0re",
        "outputId": "9352f45b-0de1-4815-f4cd-f833428b3153"
      },
      "source": [
        "plt.figure(figsize=(12,6))\n",
        "plt.subplot(1,3,1)\n",
        "sns.histplot(df[\"Thu nhập\"])\n",
        "plt.subplot(1,3,2)\n",
        "sns.histplot(df[\"Chi tiêu\"])\n",
        "plt.subplot(1,3,3)\n",
        "sns.histplot(df[\"Số người\"])\n",
        "plt.show()"
      ],
      "execution_count": 49,
      "outputs": [
        {
          "output_type": "display_data",
          "data": {
            "image/png": "[encoded data removed]",
            "text/plain": [
              "<Figure size 864x432 with 3 Axes>"
            ]
          },
          "metadata": {
            "tags": [],
            "needs_background": "light"
          }
        }
      ]
    }
  ]
}