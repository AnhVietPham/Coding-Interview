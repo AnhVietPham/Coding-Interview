{
  "nbformat": 4,
  "nbformat_minor": 0,
  "metadata": {
    "colab": {
      "name": "numpy-tutorial.ipynb",
      "provenance": [],
      "authorship_tag": "ABX9TyODHNpHjwStgZgSXWIgQTE5",
      "include_colab_link": true
    },
    "kernelspec": {
      "name": "python3",
      "display_name": "Python 3"
    },
    "language_info": {
      "name": "python"
    }
  },
  "cells": [
    {
      "cell_type": "markdown",
      "metadata": {
        "id": "view-in-github",
        "colab_type": "text"
      },
      "source": [
        "<a href=\"https://colab.research.google.com/github/AnhVietPham/Computer-Science/blob/master/numpy_tutorial.ipynb\" target=\"_parent\"><img src=\"https://colab.research.google.com/assets/colab-badge.svg\" alt=\"Open In Colab\"/></a>"
      ]
    },
    {
      "cell_type": "code",
      "metadata": {
        "id": "YfhVSxeZ9Phx"
      },
      "source": [
        "import numpy as np"
      ],
      "execution_count": null,
      "outputs": []
    },
    {
      "cell_type": "code",
      "metadata": {
        "colab": {
          "base_uri": "https://localhost:8080/"
        },
        "id": "Ta-f16qO94WY",
        "outputId": "7994ec19-fc57-4617-ccc6-386c2d1a994a"
      },
      "source": [
        "# Before reshape\n",
        "a = np.arange(15)\n",
        "# After reshape\n",
        "a1 = a.reshape(3,5)\n",
        "\n",
        "a3 = np.arange(6)\n",
        "a4 = a3[np.newaxis,:]\n",
        "print(a4.shape)"
      ],
      "execution_count": null,
      "outputs": [
        {
          "output_type": "stream",
          "text": [
            "(1, 6)\n"
          ],
          "name": "stdout"
        }
      ]
    },
    {
      "cell_type": "markdown",
      "metadata": {
        "id": "tW2hU3lr-6ld"
      },
      "source": [
        "# Array Creation"
      ]
    },
    {
      "cell_type": "code",
      "metadata": {
        "colab": {
          "base_uri": "https://localhost:8080/"
        },
        "id": "x4hc6Je--5Kg",
        "outputId": "0f150d34-67b4-49f4-ecc6-f66d6432930d"
      },
      "source": [
        "a2 = np.array([2,3,4])\n",
        "print(a2)\n",
        "print('========================')\n",
        "b = np.array([(1.5,2,4),(4,5,6)])\n",
        "print(b)"
      ],
      "execution_count": null,
      "outputs": [
        {
          "output_type": "stream",
          "text": [
            "[2 3 4]\n",
            "========================\n",
            "[[1.5 2.  4. ]\n",
            " [4.  5.  6. ]]\n"
          ],
          "name": "stdout"
        }
      ]
    },
    {
      "cell_type": "code",
      "metadata": {
        "colab": {
          "base_uri": "https://localhost:8080/"
        },
        "id": "p3leqfpz_s3n",
        "outputId": "32460fbf-e374-4599-cb2c-bcce34d1606d"
      },
      "source": [
        "complex = np.array([(1.5,2,4),(4,5,6)], dtype = 'complex')\n",
        "complex"
      ],
      "execution_count": null,
      "outputs": [
        {
          "output_type": "execute_result",
          "data": {
            "text/plain": [
              "array([[1.5+0.j, 2. +0.j, 4. +0.j],\n",
              "       [4. +0.j, 5. +0.j, 6. +0.j]])"
            ]
          },
          "metadata": {
            "tags": []
          },
          "execution_count": 16
        }
      ]
    },
    {
      "cell_type": "code",
      "metadata": {
        "colab": {
          "base_uri": "https://localhost:8080/"
        },
        "id": "RKxrU5qTABbr",
        "outputId": "f4adb405-dc25-40f0-cd53-245ca39f93f5"
      },
      "source": [
        "array_zeros = np.zeros((3,4))\n",
        "array_zeros"
      ],
      "execution_count": null,
      "outputs": [
        {
          "output_type": "execute_result",
          "data": {
            "text/plain": [
              "array([[0., 0., 0., 0.],\n",
              "       [0., 0., 0., 0.],\n",
              "       [0., 0., 0., 0.]])"
            ]
          },
          "metadata": {
            "tags": []
          },
          "execution_count": 17
        }
      ]
    },
    {
      "cell_type": "code",
      "metadata": {
        "colab": {
          "base_uri": "https://localhost:8080/"
        },
        "id": "wjh-opAdAck1",
        "outputId": "8f225c32-54d8-4f43-9a8c-4f6a988e0fd5"
      },
      "source": [
        "from numpy import pi\n",
        "array_linspace = np.linspace(0,2,9)\n",
        "array_linspace"
      ],
      "execution_count": null,
      "outputs": [
        {
          "output_type": "execute_result",
          "data": {
            "text/plain": [
              "array([0.  , 0.25, 0.5 , 0.75, 1.  , 1.25, 1.5 , 1.75, 2.  ])"
            ]
          },
          "metadata": {
            "tags": []
          },
          "execution_count": 18
        }
      ]
    },
    {
      "cell_type": "markdown",
      "metadata": {
        "id": "tdnoKYxjOwyU"
      },
      "source": [
        "# **numpy.reshape()**"
      ]
    },
    {
      "cell_type": "code",
      "metadata": {
        "colab": {
          "base_uri": "https://localhost:8080/"
        },
        "id": "TPDXNdhKOwHu",
        "outputId": "cd771d5d-58f2-4a65-dec5-52d007b55343"
      },
      "source": [
        "a = np.arange(6)\n",
        "b = np.reshape(a, newshape = (1,6))\n",
        "print(b)"
      ],
      "execution_count": null,
      "outputs": [
        {
          "output_type": "stream",
          "text": [
            "[[0 1 2 3 4 5]]\n"
          ],
          "name": "stdout"
        }
      ]
    },
    {
      "cell_type": "code",
      "metadata": {
        "id": "43A738zgPakd"
      },
      "source": [
        ""
      ],
      "execution_count": null,
      "outputs": []
    },
    {
      "cell_type": "code",
      "metadata": {
        "id": "nrQYUPpgPY1g"
      },
      "source": [
        ""
      ],
      "execution_count": null,
      "outputs": []
    },
    {
      "cell_type": "markdown",
      "metadata": {
        "id": "X1Hxw8HyEZ-H"
      },
      "source": [
        "# numpy.sin"
      ]
    },
    {
      "cell_type": "code",
      "metadata": {
        "colab": {
          "base_uri": "https://localhost:8080/",
          "height": 330
        },
        "id": "i9dHNc14Ec9k",
        "outputId": "9bbc48c5-45ec-4c78-9be0-a78b01d08d5f"
      },
      "source": [
        "from numpy import pi\n",
        "import sympy as sp\n",
        "import matplotlib.pylab as plt\n",
        "print(f'Sin(pi/2): {np.sin(pi/2)}')\n",
        "print(f'Cos(pi/2): {np.cos(pi/2)}')\n",
        "def scos(x): return sp.N(sp.cos(x))\n",
        "print(f'Cos(pi/2): {scos(sp.pi/2)}')\n",
        "x = np.linspace(-pi, pi, 1000)\n",
        "plt.plot(x, np.sin(x))\n",
        "plt.xlabel('Rad')\n",
        "plt.ylabel('sin(x)')\n",
        "plt.show()"
      ],
      "execution_count": null,
      "outputs": [
        {
          "output_type": "stream",
          "text": [
            "Sin(pi/2): 1.0\n",
            "Cos(pi/2): 6.123233995736766e-17\n",
            "Cos(pi/2): 0\n"
          ],
          "name": "stdout"
        },
        {
          "output_type": "display_data",
          "data": {
            "image/png": "[encoded data removed]",
            "text/plain": [
              "<Figure size 432x288 with 1 Axes>"
            ]
          },
          "metadata": {
            "tags": [],
            "needs_background": "light"
          }
        }
      ]
    },
    {
      "cell_type": "markdown",
      "metadata": {
        "id": "5FhluQRHNaEO"
      },
      "source": [
        "# **numpy.concatenate()**"
      ]
    },
    {
      "cell_type": "code",
      "metadata": {
        "colab": {
          "base_uri": "https://localhost:8080/"
        },
        "id": "F0PKZFaPNZ4f",
        "outputId": "3536e47b-ef9e-4126-ff1a-941f1c59983a"
      },
      "source": [
        "a = np.array([[1,2],[3,4]])\n",
        "print(a.shape)\n",
        "b = np.array([[5,6]])\n",
        "print(b.shape)\n",
        "# Concatenate axis = 0 <=> row\n",
        "print(np.concatenate((a,b), axis = 0))\n",
        "# Concatenate axis = 1 <=> column\n",
        "print(np.concatenate((a, b.T), axis = 1))\n",
        "# Concatenate Flatten\n",
        "print(np.concatenate((a,b), axis = None))"
      ],
      "execution_count": null,
      "outputs": [
        {
          "output_type": "stream",
          "text": [
            "(2, 2)\n",
            "(1, 2)\n",
            "[[1 2]\n",
            " [3 4]\n",
            " [5 6]]\n",
            "[[1 2 5]\n",
            " [3 4 6]]\n",
            "[1 2 3 4 5 6]\n"
          ],
          "name": "stdout"
        }
      ]
    },
    {
      "cell_type": "markdown",
      "metadata": {
        "id": "_zCCOPthDLMu"
      },
      "source": [
        "# Basic Operations"
      ]
    },
    {
      "cell_type": "code",
      "metadata": {
        "colab": {
          "base_uri": "https://localhost:8080/"
        },
        "id": "M9KWIPL6DOM5",
        "outputId": "ecca8835-d3b9-40f2-c526-4c27c1bec7c3"
      },
      "source": [
        "a = np.array([20, 30, 40, 50])\n",
        "print(a)\n",
        "print(np.sin(a))\n",
        "b = np.arange(4)\n",
        "print(b)\n",
        "# Subtraction\n",
        "c = a - b\n",
        "print(c)\n",
        "# Pow\n",
        "print(b**2)\n",
        "# Mul\n",
        "print(10 * np.sin(a))\n",
        "print('===============')\n",
        "A = np.array([[1,1],[0,1]])\n",
        "print(A)\n",
        "B = np.array([[2,0],[3,4]])\n",
        "print(B)\n",
        "print('=============')\n",
        "# Elementwise product\n",
        "print(A * B)\n",
        "# Matrix product\n",
        "print(A @ B)\n"
      ],
      "execution_count": null,
      "outputs": [
        {
          "output_type": "stream",
          "text": [
            "[20 30 40 50]\n",
            "[ 0.91294525 -0.98803162  0.74511316 -0.26237485]\n",
            "[0 1 2 3]\n",
            "[20 29 38 47]\n",
            "[0 1 4 9]\n",
            "[ 9.12945251 -9.88031624  7.4511316  -2.62374854]\n",
            "===============\n",
            "[[1 1]\n",
            " [0 1]]\n",
            "[[2 0]\n",
            " [3 4]]\n",
            "=============\n",
            "[[2 0]\n",
            " [0 4]]\n",
            "[[5 4]\n",
            " [3 4]]\n"
          ],
          "name": "stdout"
        }
      ]
    }
  ]
}